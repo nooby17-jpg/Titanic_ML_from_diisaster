{
 "cells": [
  {
   "cell_type": "markdown",
   "id": "2f388e85",
   "metadata": {},
   "source": [
    "**<h1> Titanic - Machine Learning from Disaster</h1>**\n",
    "\n",
    "**Nikhil Sharma**"
   ]
  },
  {
   "cell_type": "markdown",
   "id": "8da697e2",
   "metadata": {},
   "source": [
    "### Table of Contents:\n",
    "\n",
    "* [1. Introduction](#introduction)\n",
    "* [2. Data Understanding](#data_understanding)\n",
    "* [3. Data Preparation](#data_preparation)\n",
    "* [4. Data Pre-Processing](#data_processing)\n",
    "* [5. Model Selection](#model_selection)\n",
    "* [6. Model Testing](#model_testing)\n",
    "* [7. Conclusion](#conclusion)"
   ]
  },
  {
   "cell_type": "markdown",
   "id": "86af434a",
   "metadata": {},
   "source": [
    "# 1. Introduction:<a class=\"anchor\" id=\"introduction\"></a>\n",
    "The sinking of the Titanic is one of the most infamous shipwrecks in history.\n",
    "\n",
    "On April 15, 1912, during her maiden voyage, the widely considered “ unsinkable ” RMS Titanic sank after colliding with an iceberg. Unfortunately, there weren’t enough lifeboats for everyone on-board, resulting in the death of 1502 out of 2224 passengers and crew.\n",
    "\n",
    "While there was some element of luck involved in surviving, it seems some groups of people were more likely to survive than others.\n",
    "\n",
    "In this challenge, we ask you to build a predictive model that answers the question: “ what sorts of people were more likely to survive? ” using passenger data (i.e. name, age, gender, socio-economic class, etc)."
   ]
  },
  {
   "cell_type": "markdown",
   "id": "5459ea0e",
   "metadata": {},
   "source": [
    "# 2. Data Understanding<a class=\"anchor\" id=\"data_understanding\"></a>\n",
    "On April 15, 1912, the  Titanic collided with an iceberg and sank. When the Titanic sank, it killed 1502 out of 2224 passengers and crew. \n",
    "\n",
    "We'll gain access to two similar datasets that include passenger information like name, age, gender, socio-economic class, etc. One dataset is titled `train.csv` and the other is titled `test.csv`.\n",
    "\n",
    "`Train.csv` will contain the details of a subset of the passengers on board (891 to be exact) and importantly, will reveal whether they survived or not, also known as the “ground truth”. The training set should be used to build our machine learning models. For the training set, we have the outcome (also known as the “ground truth”) for each passenger. Your model will be based on “features” like passengers’ gender and class. You can also use feature engineering to create new features.\n",
    "\n",
    "The `test.csv` dataset contains similar information but does not disclose the “ground truth” for each passenger. It’s our job to predict these outcomes. The test set should be used to see how well your model performs on unseen data. Our job is to predict these outcomes. For each passenger in the test set, use the model you trained to predict whether or not they survived the sinking of the Titanic.\n",
    "\n",
    "We will then determine if there is a relationship between survival and the different features. The following table summarizes the data:\n",
    "\n",
    "<table>\n",
    "<tbody>\n",
    "<tr><th><b>Variable</b></th><th><b>Definition</b></th><th><b>Key</b></th></tr>\n",
    "<tr>\n",
    "<td>survival</td>\n",
    "<td>Survival</td>\n",
    "<td>0 = No, 1 = Yes</td>\n",
    "</tr>\n",
    "<tr>\n",
    "<td>pclass</td>\n",
    "<td>Ticket class</td>\n",
    "<td>1 = 1st, 2 = 2nd, 3 = 3rd</td>\n",
    "</tr>\n",
    "<tr>\n",
    "<td>sex</td>\n",
    "<td>Sex</td>\n",
    "<td></td>\n",
    "</tr>\n",
    "<tr>\n",
    "<td>Age</td>\n",
    "<td>Age in years</td>\n",
    "<td></td>\n",
    "</tr>\n",
    "<tr>\n",
    "<td>sibsp</td>\n",
    "<td># of siblings / spouses aboard the Titanic</td>\n",
    "<td></td>\n",
    "</tr>\n",
    "<tr>\n",
    "<td>parch</td>\n",
    "<td># of parents / children aboard the Titanic</td>\n",
    "<td></td>\n",
    "</tr>\n",
    "<tr>\n",
    "<td>ticket</td>\n",
    "<td>Ticket number</td>\n",
    "<td></td>\n",
    "</tr>\n",
    "<tr>\n",
    "<td>fare</td>\n",
    "<td>Passenger fare</td>\n",
    "<td></td>\n",
    "</tr>\n",
    "<tr>\n",
    "<td>cabin</td>\n",
    "<td>Cabin number</td>\n",
    "<td></td>\n",
    "</tr>\n",
    "<tr>\n",
    "<td>embarked</td>\n",
    "<td>Port of Embarkation</td>\n",
    "<td>C = Cherbourg, Q = Queenstown, S = Southampton</td>\n",
    "</tr>\n",
    "</tbody>\n",
    "</table>\n"
   ]
  },
  {
   "cell_type": "markdown",
   "id": "70b2a772",
   "metadata": {},
   "source": [
    "# 3. Data Preparation<a class=\"anchor\" id=\"data_preparation\"></a>\n",
    "* We will import the required libraries.\n",
    "* We will Load the both training and testing dataset.\n",
    "* We will check correlation of unprocessed data."
   ]
  },
  {
   "cell_type": "markdown",
   "id": "18c6ac80",
   "metadata": {},
   "source": [
    "**Import required libraries.**"
   ]
  },
  {
   "cell_type": "code",
   "execution_count": 1,
   "id": "ab60fbd3",
   "metadata": {},
   "outputs": [],
   "source": [
    "#make sure you have installed the libraries before importing them.\n",
    "\n",
    "#Basic Analytical libraries\n",
    "import numpy as np\n",
    "import pandas as pd\n",
    "import scipy.stats as st \n",
    "import seaborn as sns\n",
    "import matplotlib.pyplot as plt\n",
    "from matplotlib.pyplot import figure\n",
    "\n",
    "#imblearn libraries for balancing our data\n",
    "import imblearn\n",
    "from imblearn.over_sampling import SMOTE\n",
    "from imblearn.under_sampling import RandomUnderSampler\n",
    "\n",
    "#Different classification model's libraries\n",
    "from sklearn.linear_model import LogisticRegression\n",
    "from sklearn.ensemble import RandomForestClassifier\n",
    "from catboost import CatBoostClassifier\n",
    "\n",
    "#Different Clustering Algorihtms\n",
    "from sklearn.cluster import KMeans\n",
    "from sklearn.cluster import DBSCAN\n",
    "from sklearn.cluster import MeanShift, estimate_bandwidth\n",
    "\n",
    "#Libraries for data preprocessing, Imputing, scaling, and splitting the data.\n",
    "from sklearn.preprocessing import OneHotEncoder,StandardScaler, LabelEncoder, MinMaxScaler\n",
    "from sklearn.experimental import enable_iterative_imputer\n",
    "from sklearn.impute import SimpleImputer, KNNImputer, IterativeImputer\n",
    "from sklearn.utils import shuffle\n",
    "from sklearn.model_selection import train_test_split, learning_curve\n",
    "\n",
    "\n",
    "#Libraries for different metrics\n",
    "from sklearn.metrics import classification_report, accuracy_score, precision_recall_fscore_support, confusion_matrix, precision_score, recall_score, roc_auc_score\n",
    "from sklearn.metrics import ConfusionMatrixDisplay\n",
    "from sklearn import metrics\n",
    "\n",
    "#Libraries for Hyperparameter tuning, feature selection, and importances. \n",
    "from sklearn.inspection import permutation_importance\n",
    "from sklearn.model_selection import GridSearchCV, cross_val_score\n",
    "from collections import Counter\n",
    "from sklearn.feature_selection import SequentialFeatureSelector\n",
    "\n",
    "from mpl_toolkits import mplot3d\n",
    "import seaborn as sns\n",
    "import math\n",
    "\n",
    "\n",
    "##Supress Warnings\n",
    "def warn(*args, **kwargs):\n",
    "    pass\n",
    "import warnings\n",
    "warnings.warn = warn"
   ]
  },
  {
   "cell_type": "markdown",
   "id": "fb14666a",
   "metadata": {},
   "source": [
    "**Load the Data**\n",
    "\n",
    "* **X** - Training Data\n",
    "* **Y** - Testing Data"
   ]
  },
  {
   "cell_type": "code",
   "execution_count": 2,
   "id": "40d0f277",
   "metadata": {},
   "outputs": [],
   "source": [
    "X = pd.read_csv('data/train.csv')\n",
    "Y = pd.read_csv('data/test.csv')"
   ]
  },
  {
   "cell_type": "code",
   "execution_count": 3,
   "id": "042bd1ca",
   "metadata": {},
   "outputs": [
    {
     "data": {
      "text/html": [
       "<div>\n",
       "<style scoped>\n",
       "    .dataframe tbody tr th:only-of-type {\n",
       "        vertical-align: middle;\n",
       "    }\n",
       "\n",
       "    .dataframe tbody tr th {\n",
       "        vertical-align: top;\n",
       "    }\n",
       "\n",
       "    .dataframe thead th {\n",
       "        text-align: right;\n",
       "    }\n",
       "</style>\n",
       "<table border=\"1\" class=\"dataframe\">\n",
       "  <thead>\n",
       "    <tr style=\"text-align: right;\">\n",
       "      <th></th>\n",
       "      <th>PassengerId</th>\n",
       "      <th>Survived</th>\n",
       "      <th>Pclass</th>\n",
       "      <th>Name</th>\n",
       "      <th>Sex</th>\n",
       "      <th>Age</th>\n",
       "      <th>SibSp</th>\n",
       "      <th>Parch</th>\n",
       "      <th>Ticket</th>\n",
       "      <th>Fare</th>\n",
       "      <th>Cabin</th>\n",
       "      <th>Embarked</th>\n",
       "    </tr>\n",
       "  </thead>\n",
       "  <tbody>\n",
       "    <tr>\n",
       "      <th>0</th>\n",
       "      <td>1</td>\n",
       "      <td>0</td>\n",
       "      <td>3</td>\n",
       "      <td>Braund, Mr. Owen Harris</td>\n",
       "      <td>male</td>\n",
       "      <td>22.0</td>\n",
       "      <td>1</td>\n",
       "      <td>0</td>\n",
       "      <td>A/5 21171</td>\n",
       "      <td>7.2500</td>\n",
       "      <td>NaN</td>\n",
       "      <td>S</td>\n",
       "    </tr>\n",
       "    <tr>\n",
       "      <th>1</th>\n",
       "      <td>2</td>\n",
       "      <td>1</td>\n",
       "      <td>1</td>\n",
       "      <td>Cumings, Mrs. John Bradley (Florence Briggs Th...</td>\n",
       "      <td>female</td>\n",
       "      <td>38.0</td>\n",
       "      <td>1</td>\n",
       "      <td>0</td>\n",
       "      <td>PC 17599</td>\n",
       "      <td>71.2833</td>\n",
       "      <td>C85</td>\n",
       "      <td>C</td>\n",
       "    </tr>\n",
       "    <tr>\n",
       "      <th>2</th>\n",
       "      <td>3</td>\n",
       "      <td>1</td>\n",
       "      <td>3</td>\n",
       "      <td>Heikkinen, Miss. Laina</td>\n",
       "      <td>female</td>\n",
       "      <td>26.0</td>\n",
       "      <td>0</td>\n",
       "      <td>0</td>\n",
       "      <td>STON/O2. 3101282</td>\n",
       "      <td>7.9250</td>\n",
       "      <td>NaN</td>\n",
       "      <td>S</td>\n",
       "    </tr>\n",
       "  </tbody>\n",
       "</table>\n",
       "</div>"
      ],
      "text/plain": [
       "   PassengerId  Survived  Pclass  \\\n",
       "0            1         0       3   \n",
       "1            2         1       1   \n",
       "2            3         1       3   \n",
       "\n",
       "                                                Name     Sex   Age  SibSp  \\\n",
       "0                            Braund, Mr. Owen Harris    male  22.0      1   \n",
       "1  Cumings, Mrs. John Bradley (Florence Briggs Th...  female  38.0      1   \n",
       "2                             Heikkinen, Miss. Laina  female  26.0      0   \n",
       "\n",
       "   Parch            Ticket     Fare Cabin Embarked  \n",
       "0      0         A/5 21171   7.2500   NaN        S  \n",
       "1      0          PC 17599  71.2833   C85        C  \n",
       "2      0  STON/O2. 3101282   7.9250   NaN        S  "
      ]
     },
     "execution_count": 3,
     "metadata": {},
     "output_type": "execute_result"
    }
   ],
   "source": [
    "X.head(3)"
   ]
  },
  {
   "cell_type": "code",
   "execution_count": 4,
   "id": "81ba78e4",
   "metadata": {
    "scrolled": false
   },
   "outputs": [
    {
     "data": {
      "text/html": [
       "<div>\n",
       "<style scoped>\n",
       "    .dataframe tbody tr th:only-of-type {\n",
       "        vertical-align: middle;\n",
       "    }\n",
       "\n",
       "    .dataframe tbody tr th {\n",
       "        vertical-align: top;\n",
       "    }\n",
       "\n",
       "    .dataframe thead th {\n",
       "        text-align: right;\n",
       "    }\n",
       "</style>\n",
       "<table border=\"1\" class=\"dataframe\">\n",
       "  <thead>\n",
       "    <tr style=\"text-align: right;\">\n",
       "      <th></th>\n",
       "      <th>PassengerId</th>\n",
       "      <th>Pclass</th>\n",
       "      <th>Name</th>\n",
       "      <th>Sex</th>\n",
       "      <th>Age</th>\n",
       "      <th>SibSp</th>\n",
       "      <th>Parch</th>\n",
       "      <th>Ticket</th>\n",
       "      <th>Fare</th>\n",
       "      <th>Cabin</th>\n",
       "      <th>Embarked</th>\n",
       "    </tr>\n",
       "  </thead>\n",
       "  <tbody>\n",
       "    <tr>\n",
       "      <th>0</th>\n",
       "      <td>892</td>\n",
       "      <td>3</td>\n",
       "      <td>Kelly, Mr. James</td>\n",
       "      <td>male</td>\n",
       "      <td>34.5</td>\n",
       "      <td>0</td>\n",
       "      <td>0</td>\n",
       "      <td>330911</td>\n",
       "      <td>7.8292</td>\n",
       "      <td>NaN</td>\n",
       "      <td>Q</td>\n",
       "    </tr>\n",
       "    <tr>\n",
       "      <th>1</th>\n",
       "      <td>893</td>\n",
       "      <td>3</td>\n",
       "      <td>Wilkes, Mrs. James (Ellen Needs)</td>\n",
       "      <td>female</td>\n",
       "      <td>47.0</td>\n",
       "      <td>1</td>\n",
       "      <td>0</td>\n",
       "      <td>363272</td>\n",
       "      <td>7.0000</td>\n",
       "      <td>NaN</td>\n",
       "      <td>S</td>\n",
       "    </tr>\n",
       "    <tr>\n",
       "      <th>2</th>\n",
       "      <td>894</td>\n",
       "      <td>2</td>\n",
       "      <td>Myles, Mr. Thomas Francis</td>\n",
       "      <td>male</td>\n",
       "      <td>62.0</td>\n",
       "      <td>0</td>\n",
       "      <td>0</td>\n",
       "      <td>240276</td>\n",
       "      <td>9.6875</td>\n",
       "      <td>NaN</td>\n",
       "      <td>Q</td>\n",
       "    </tr>\n",
       "  </tbody>\n",
       "</table>\n",
       "</div>"
      ],
      "text/plain": [
       "   PassengerId  Pclass                              Name     Sex   Age  SibSp  \\\n",
       "0          892       3                  Kelly, Mr. James    male  34.5      0   \n",
       "1          893       3  Wilkes, Mrs. James (Ellen Needs)  female  47.0      1   \n",
       "2          894       2         Myles, Mr. Thomas Francis    male  62.0      0   \n",
       "\n",
       "   Parch  Ticket    Fare Cabin Embarked  \n",
       "0      0  330911  7.8292   NaN        Q  \n",
       "1      0  363272  7.0000   NaN        S  \n",
       "2      0  240276  9.6875   NaN        Q  "
      ]
     },
     "execution_count": 4,
     "metadata": {},
     "output_type": "execute_result"
    }
   ],
   "source": [
    "Y.head(3)"
   ]
  },
  {
   "cell_type": "markdown",
   "id": "966aa5b0",
   "metadata": {},
   "source": [
    "We will separate `PassengerId` from our testing data `Y` and store it into `y_pass_id` variable for submission."
   ]
  },
  {
   "cell_type": "code",
   "execution_count": 5,
   "id": "ab38c5c1",
   "metadata": {},
   "outputs": [],
   "source": [
    "# Separate test_df PassengerId\n",
    "y_pass_id = Y.pop('PassengerId')"
   ]
  },
  {
   "cell_type": "markdown",
   "id": "def2b45c",
   "metadata": {},
   "source": [
    "**Unprocessed Data Correlation**"
   ]
  },
  {
   "cell_type": "code",
   "execution_count": 6,
   "id": "974e9492",
   "metadata": {},
   "outputs": [
    {
     "data": {
      "text/plain": [
       "Survived       1.000000\n",
       "Fare           0.257307\n",
       "Parch          0.081629\n",
       "PassengerId   -0.005007\n",
       "SibSp         -0.035322\n",
       "Age           -0.077221\n",
       "Pclass        -0.338481\n",
       "Name: Survived, dtype: float64"
      ]
     },
     "execution_count": 6,
     "metadata": {},
     "output_type": "execute_result"
    }
   ],
   "source": [
    "X.corr()['Survived'].sort_values(ascending=False)"
   ]
  },
  {
   "cell_type": "code",
   "execution_count": 7,
   "id": "9b608501",
   "metadata": {},
   "outputs": [
    {
     "data": {
      "image/png": "[encoded data removed]",
      "text/plain": [
       "<Figure size 720x360 with 1 Axes>"
      ]
     },
     "metadata": {
      "needs_background": "light"
     },
     "output_type": "display_data"
    }
   ],
   "source": [
    "# Concatenate into a full dataset\n",
    "#X = pd.concat([X, y], axis=1)\n",
    "\n",
    "correlation = X.corr()['Survived'].sort_values(ascending=False)\n",
    "\n",
    "# Correlation graph\n",
    "correlation[1:].plot(kind='bar', figsize=(10,5), title='Survivability dependency')\n",
    "plt.show()"
   ]
  },
  {
   "cell_type": "markdown",
   "id": "e7defc8a",
   "metadata": {},
   "source": [
    "Few Findings:\n",
    "* `Fare` and `Pclass` have the highest correlation to `Survived`, it seams higher class (also higher Fare) had priority to embark the lifeboats.\n",
    "* `Pclass` has negative correlation because `Pclass` is numbered 1 = High, 2 = Medium, 3 = Low, but results to an inverse survivability (class 3 = lower chance to survive, class 1 = higher chance)."
   ]
  },
  {
   "cell_type": "markdown",
   "id": "c357172d",
   "metadata": {},
   "source": [
    "# 4. Data Pre-Processing<a class=\"anchor\" id=\"data_processing\"></a>"
   ]
  },
  {
   "cell_type": "markdown",
   "id": "38b2de73",
   "metadata": {},
   "source": [
    "We will continue processing our `X` or Training data for Analysis"
   ]
  },
  {
   "cell_type": "code",
   "execution_count": 8,
   "id": "196dc225",
   "metadata": {},
   "outputs": [
    {
     "name": "stdout",
     "output_type": "stream",
     "text": [
      "---------------Shape of the Dataframe -  X: ----------------\n",
      "Number of rows in the data: 891\n",
      "Number of columns in the data: 12\n"
     ]
    }
   ],
   "source": [
    "print('Shape of the Dataframe -  X: '.center(60,'-'))\n",
    "print(\"Number of rows in the data:\", X.shape[0])\n",
    "print(\"Number of columns in the data:\", X.shape[1])"
   ]
  },
  {
   "cell_type": "code",
   "execution_count": 9,
   "id": "e1bf5c95",
   "metadata": {},
   "outputs": [
    {
     "data": {
      "text/html": [
       "<div>\n",
       "<style scoped>\n",
       "    .dataframe tbody tr th:only-of-type {\n",
       "        vertical-align: middle;\n",
       "    }\n",
       "\n",
       "    .dataframe tbody tr th {\n",
       "        vertical-align: top;\n",
       "    }\n",
       "\n",
       "    .dataframe thead th {\n",
       "        text-align: right;\n",
       "    }\n",
       "</style>\n",
       "<table border=\"1\" class=\"dataframe\">\n",
       "  <thead>\n",
       "    <tr style=\"text-align: right;\">\n",
       "      <th></th>\n",
       "      <th>PassengerId</th>\n",
       "      <th>Survived</th>\n",
       "      <th>Pclass</th>\n",
       "      <th>Age</th>\n",
       "      <th>SibSp</th>\n",
       "      <th>Parch</th>\n",
       "      <th>Fare</th>\n",
       "    </tr>\n",
       "  </thead>\n",
       "  <tbody>\n",
       "    <tr>\n",
       "      <th>count</th>\n",
       "      <td>891.000000</td>\n",
       "      <td>891.000000</td>\n",
       "      <td>891.000000</td>\n",
       "      <td>714.000000</td>\n",
       "      <td>891.000000</td>\n",
       "      <td>891.000000</td>\n",
       "      <td>891.000000</td>\n",
       "    </tr>\n",
       "    <tr>\n",
       "      <th>mean</th>\n",
       "      <td>446.000000</td>\n",
       "      <td>0.383838</td>\n",
       "      <td>2.308642</td>\n",
       "      <td>29.699118</td>\n",
       "      <td>0.523008</td>\n",
       "      <td>0.381594</td>\n",
       "      <td>32.204208</td>\n",
       "    </tr>\n",
       "    <tr>\n",
       "      <th>std</th>\n",
       "      <td>257.353842</td>\n",
       "      <td>0.486592</td>\n",
       "      <td>0.836071</td>\n",
       "      <td>14.526497</td>\n",
       "      <td>1.102743</td>\n",
       "      <td>0.806057</td>\n",
       "      <td>49.693429</td>\n",
       "    </tr>\n",
       "    <tr>\n",
       "      <th>min</th>\n",
       "      <td>1.000000</td>\n",
       "      <td>0.000000</td>\n",
       "      <td>1.000000</td>\n",
       "      <td>0.420000</td>\n",
       "      <td>0.000000</td>\n",
       "      <td>0.000000</td>\n",
       "      <td>0.000000</td>\n",
       "    </tr>\n",
       "    <tr>\n",
       "      <th>25%</th>\n",
       "      <td>223.500000</td>\n",
       "      <td>0.000000</td>\n",
       "      <td>2.000000</td>\n",
       "      <td>20.125000</td>\n",
       "      <td>0.000000</td>\n",
       "      <td>0.000000</td>\n",
       "      <td>7.910400</td>\n",
       "    </tr>\n",
       "    <tr>\n",
       "      <th>50%</th>\n",
       "      <td>446.000000</td>\n",
       "      <td>0.000000</td>\n",
       "      <td>3.000000</td>\n",
       "      <td>28.000000</td>\n",
       "      <td>0.000000</td>\n",
       "      <td>0.000000</td>\n",
       "      <td>14.454200</td>\n",
       "    </tr>\n",
       "    <tr>\n",
       "      <th>75%</th>\n",
       "      <td>668.500000</td>\n",
       "      <td>1.000000</td>\n",
       "      <td>3.000000</td>\n",
       "      <td>38.000000</td>\n",
       "      <td>1.000000</td>\n",
       "      <td>0.000000</td>\n",
       "      <td>31.000000</td>\n",
       "    </tr>\n",
       "    <tr>\n",
       "      <th>max</th>\n",
       "      <td>891.000000</td>\n",
       "      <td>1.000000</td>\n",
       "      <td>3.000000</td>\n",
       "      <td>80.000000</td>\n",
       "      <td>8.000000</td>\n",
       "      <td>6.000000</td>\n",
       "      <td>512.329200</td>\n",
       "    </tr>\n",
       "  </tbody>\n",
       "</table>\n",
       "</div>"
      ],
      "text/plain": [
       "       PassengerId    Survived      Pclass         Age       SibSp  \\\n",
       "count   891.000000  891.000000  891.000000  714.000000  891.000000   \n",
       "mean    446.000000    0.383838    2.308642   29.699118    0.523008   \n",
       "std     257.353842    0.486592    0.836071   14.526497    1.102743   \n",
       "min       1.000000    0.000000    1.000000    0.420000    0.000000   \n",
       "25%     223.500000    0.000000    2.000000   20.125000    0.000000   \n",
       "50%     446.000000    0.000000    3.000000   28.000000    0.000000   \n",
       "75%     668.500000    1.000000    3.000000   38.000000    1.000000   \n",
       "max     891.000000    1.000000    3.000000   80.000000    8.000000   \n",
       "\n",
       "            Parch        Fare  \n",
       "count  891.000000  891.000000  \n",
       "mean     0.381594   32.204208  \n",
       "std      0.806057   49.693429  \n",
       "min      0.000000    0.000000  \n",
       "25%      0.000000    7.910400  \n",
       "50%      0.000000   14.454200  \n",
       "75%      0.000000   31.000000  \n",
       "max      6.000000  512.329200  "
      ]
     },
     "execution_count": 9,
     "metadata": {},
     "output_type": "execute_result"
    }
   ],
   "source": [
    "X.describe()"
   ]
  },
  {
   "cell_type": "markdown",
   "id": "7de6867a",
   "metadata": {},
   "source": [
    "We will check for null values."
   ]
  },
  {
   "cell_type": "code",
   "execution_count": 10,
   "id": "91fbc411",
   "metadata": {
    "scrolled": true
   },
   "outputs": [
    {
     "data": {
      "text/plain": [
       "PassengerId      0\n",
       "Survived         0\n",
       "Pclass           0\n",
       "Name             0\n",
       "Sex              0\n",
       "Age            177\n",
       "SibSp            0\n",
       "Parch            0\n",
       "Ticket           0\n",
       "Fare             0\n",
       "Cabin          687\n",
       "Embarked         2\n",
       "dtype: int64"
      ]
     },
     "execution_count": 10,
     "metadata": {},
     "output_type": "execute_result"
    }
   ],
   "source": [
    "X.isna().sum()"
   ]
  },
  {
   "cell_type": "code",
   "execution_count": 11,
   "id": "4a2f3a25",
   "metadata": {},
   "outputs": [
    {
     "name": "stdout",
     "output_type": "stream",
     "text": [
      "<class 'pandas.core.frame.DataFrame'>\n",
      "RangeIndex: 891 entries, 0 to 890\n",
      "Data columns (total 12 columns):\n",
      " #   Column       Non-Null Count  Dtype  \n",
      "---  ------       --------------  -----  \n",
      " 0   PassengerId  891 non-null    int64  \n",
      " 1   Survived     891 non-null    int64  \n",
      " 2   Pclass       891 non-null    int64  \n",
      " 3   Name         891 non-null    object \n",
      " 4   Sex          891 non-null    object \n",
      " 5   Age          714 non-null    float64\n",
      " 6   SibSp        891 non-null    int64  \n",
      " 7   Parch        891 non-null    int64  \n",
      " 8   Ticket       891 non-null    object \n",
      " 9   Fare         891 non-null    float64\n",
      " 10  Cabin        204 non-null    object \n",
      " 11  Embarked     889 non-null    object \n",
      "dtypes: float64(2), int64(5), object(5)\n",
      "memory usage: 83.7+ KB\n"
     ]
    }
   ],
   "source": [
    "X.info()"
   ]
  },
  {
   "cell_type": "markdown",
   "id": "ec84dc4e",
   "metadata": {},
   "source": [
    "Few Findings:\n",
    "\n",
    "* Some features need imputation.\n",
    "* `Cabin` feature has a lot of missing values, we will use the available values to create a new feature and we will drop the `Cabin` feature.\n",
    "* We will create the feature `Deck_level`, using the correlation between `Pclass` and info deducted from `Cabin` feature. We suppose that the `Deck_level` could take a role in survivability of the people as the lifeboats were on the top of the deck level.\n",
    "* From `Name` feature we will split the `LastName` and `Title` and create their respective features and we will use it during creation of `Deck_level`.\n",
    "* `Age` feature has null values, so we will choose a median value while imputing it by new feature we created `Title`.\n"
   ]
  },
  {
   "cell_type": "markdown",
   "id": "ff6dde02",
   "metadata": {},
   "source": [
    "**Data Processing**\n",
    "* We will store the `X.shape[0]` or the the number of our rows into `X_max_index` for splitting the data.\n",
    "* We will also separate our features and target into `X_train` and `y`.\n",
    "* We will concatenate both training and testing data into one `X_train` dataset.\n",
    "* In the end, We will also check for Feature instances."
   ]
  },
  {
   "cell_type": "code",
   "execution_count": 12,
   "id": "d7a3a8d2",
   "metadata": {},
   "outputs": [
    {
     "name": "stdout",
     "output_type": "stream",
     "text": [
      "X-Max_Index =  891\n",
      "<class 'pandas.core.frame.DataFrame'>\n",
      "RangeIndex: 1309 entries, 0 to 1308\n",
      "Data columns (total 10 columns):\n",
      " #   Column    Non-Null Count  Dtype  \n",
      "---  ------    --------------  -----  \n",
      " 0   Pclass    1309 non-null   int64  \n",
      " 1   Name      1309 non-null   object \n",
      " 2   Sex       1309 non-null   object \n",
      " 3   Age       1046 non-null   float64\n",
      " 4   SibSp     1309 non-null   int64  \n",
      " 5   Parch     1309 non-null   int64  \n",
      " 6   Ticket    1309 non-null   object \n",
      " 7   Fare      1308 non-null   float64\n",
      " 8   Cabin     295 non-null    object \n",
      " 9   Embarked  1307 non-null   object \n",
      "dtypes: float64(2), int64(3), object(5)\n",
      "memory usage: 102.4+ KB\n"
     ]
    }
   ],
   "source": [
    "# Keep max index that will be used to back split training and test data\n",
    "X_max_index = X.shape[0]\n",
    "print('X-Max_Index = ', X_max_index)\n",
    "\n",
    "# Separate features and target\n",
    "y = X.Survived\n",
    "\n",
    "X_train = X.drop(['Survived', 'PassengerId'], axis=1)\n",
    "X_train = pd.concat([X_train, Y], axis=0).reset_index(drop=True)\n",
    "\n",
    "X_train.info()"
   ]
  },
  {
   "cell_type": "markdown",
   "id": "8ee453c8",
   "metadata": {},
   "source": [
    "Let's check for feature instances"
   ]
  },
  {
   "cell_type": "code",
   "execution_count": 13,
   "id": "47a8db8d",
   "metadata": {},
   "outputs": [
    {
     "data": {
      "image/png": "[encoded data removed]",
      "text/plain": [
       "<Figure size 720x864 with 6 Axes>"
      ]
     },
     "metadata": {
      "needs_background": "light"
     },
     "output_type": "display_data"
    }
   ],
   "source": [
    "#Feature Instances\n",
    "X_train.hist(bins=30, figsize=(10,12))\n",
    "plt.show()"
   ]
  },
  {
   "cell_type": "markdown",
   "id": "ef9252c9",
   "metadata": {},
   "source": [
    "Few Findings:\n",
    "* Each attributes have different scales\n",
    "* Some features are skewed to the right, we should check for outliers and normalize data.\n",
    "* `Fare` has  values in `0` that's cannot be right."
   ]
  },
  {
   "cell_type": "code",
   "execution_count": 14,
   "id": "12c649ef",
   "metadata": {},
   "outputs": [
    {
     "data": {
      "text/plain": [
       "(1309, 10)"
      ]
     },
     "execution_count": 14,
     "metadata": {},
     "output_type": "execute_result"
    }
   ],
   "source": [
    "# Zero values in Fare we will consider it as an error or an outlier and we will delete for further imputation\n",
    "X_train.loc[X_train.Fare.eq(0), 'Fare'] = np.nan\n",
    "X_train.shape"
   ]
  },
  {
   "cell_type": "markdown",
   "id": "3bd43e5d",
   "metadata": {},
   "source": [
    "Now, Let's Split `LastName` and `Title` from `Name` into their respective feature."
   ]
  },
  {
   "cell_type": "code",
   "execution_count": 15,
   "id": "178bbd52",
   "metadata": {},
   "outputs": [
    {
     "data": {
      "text/html": [
       "<div>\n",
       "<style scoped>\n",
       "    .dataframe tbody tr th:only-of-type {\n",
       "        vertical-align: middle;\n",
       "    }\n",
       "\n",
       "    .dataframe tbody tr th {\n",
       "        vertical-align: top;\n",
       "    }\n",
       "\n",
       "    .dataframe thead th {\n",
       "        text-align: right;\n",
       "    }\n",
       "</style>\n",
       "<table border=\"1\" class=\"dataframe\">\n",
       "  <thead>\n",
       "    <tr style=\"text-align: right;\">\n",
       "      <th></th>\n",
       "      <th>Pclass</th>\n",
       "      <th>Name</th>\n",
       "      <th>Sex</th>\n",
       "      <th>Age</th>\n",
       "      <th>SibSp</th>\n",
       "      <th>Parch</th>\n",
       "      <th>Ticket</th>\n",
       "      <th>Fare</th>\n",
       "      <th>Cabin</th>\n",
       "      <th>Embarked</th>\n",
       "      <th>LastName</th>\n",
       "      <th>Title</th>\n",
       "    </tr>\n",
       "  </thead>\n",
       "  <tbody>\n",
       "    <tr>\n",
       "      <th>0</th>\n",
       "      <td>3</td>\n",
       "      <td>Braund, Mr. Owen Harris</td>\n",
       "      <td>male</td>\n",
       "      <td>22.0</td>\n",
       "      <td>1</td>\n",
       "      <td>0</td>\n",
       "      <td>A/5 21171</td>\n",
       "      <td>7.2500</td>\n",
       "      <td>NaN</td>\n",
       "      <td>S</td>\n",
       "      <td>Braund</td>\n",
       "      <td>Mr</td>\n",
       "    </tr>\n",
       "    <tr>\n",
       "      <th>1</th>\n",
       "      <td>1</td>\n",
       "      <td>Cumings, Mrs. John Bradley (Florence Briggs Th...</td>\n",
       "      <td>female</td>\n",
       "      <td>38.0</td>\n",
       "      <td>1</td>\n",
       "      <td>0</td>\n",
       "      <td>PC 17599</td>\n",
       "      <td>71.2833</td>\n",
       "      <td>C85</td>\n",
       "      <td>C</td>\n",
       "      <td>Cumings</td>\n",
       "      <td>Mrs</td>\n",
       "    </tr>\n",
       "    <tr>\n",
       "      <th>2</th>\n",
       "      <td>3</td>\n",
       "      <td>Heikkinen, Miss. Laina</td>\n",
       "      <td>female</td>\n",
       "      <td>26.0</td>\n",
       "      <td>0</td>\n",
       "      <td>0</td>\n",
       "      <td>STON/O2. 3101282</td>\n",
       "      <td>7.9250</td>\n",
       "      <td>NaN</td>\n",
       "      <td>S</td>\n",
       "      <td>Heikkinen</td>\n",
       "      <td>Miss</td>\n",
       "    </tr>\n",
       "  </tbody>\n",
       "</table>\n",
       "</div>"
      ],
      "text/plain": [
       "   Pclass                                               Name     Sex   Age  \\\n",
       "0       3                            Braund, Mr. Owen Harris    male  22.0   \n",
       "1       1  Cumings, Mrs. John Bradley (Florence Briggs Th...  female  38.0   \n",
       "2       3                             Heikkinen, Miss. Laina  female  26.0   \n",
       "\n",
       "   SibSp  Parch            Ticket     Fare Cabin Embarked   LastName Title  \n",
       "0      1      0         A/5 21171   7.2500   NaN        S     Braund    Mr  \n",
       "1      1      0          PC 17599  71.2833   C85        C    Cumings   Mrs  \n",
       "2      0      0  STON/O2. 3101282   7.9250   NaN        S  Heikkinen  Miss  "
      ]
     },
     "execution_count": 15,
     "metadata": {},
     "output_type": "execute_result"
    }
   ],
   "source": [
    "#Exctracting the Last Name from name feature\n",
    "X_train['LastName'] = X_train.Name.str.split(', ').str[0]\n",
    "\n",
    "# Extracting the Title from Name feature\n",
    "X_train['Title'] = X_train.Name.str.split(', ').str[1]\n",
    "X_train['Title'] = X_train.Title.str.split('.').str[0]\n",
    "\n",
    "#Take a peek at our Dataframe\n",
    "X_train.head(3)"
   ]
  },
  {
   "cell_type": "markdown",
   "id": "1c114e72",
   "metadata": {},
   "source": [
    "We will analyze the Title for further exploration."
   ]
  },
  {
   "cell_type": "code",
   "execution_count": 16,
   "id": "e9aadebb",
   "metadata": {},
   "outputs": [
    {
     "data": {
      "text/plain": [
       "Mr              757\n",
       "Miss            260\n",
       "Mrs             197\n",
       "Master           61\n",
       "Rev               8\n",
       "Dr                8\n",
       "Col               4\n",
       "Mlle              2\n",
       "Major             2\n",
       "Ms                2\n",
       "Lady              1\n",
       "Sir               1\n",
       "Mme               1\n",
       "Don               1\n",
       "Capt              1\n",
       "the Countess      1\n",
       "Jonkheer          1\n",
       "Dona              1\n",
       "Name: Title, dtype: int64"
      ]
     },
     "execution_count": 16,
     "metadata": {},
     "output_type": "execute_result"
    }
   ],
   "source": [
    "#Let's Have a count of Titles\n",
    "X_train.Title.value_counts()"
   ]
  },
  {
   "cell_type": "markdown",
   "id": "fac97d29",
   "metadata": {},
   "source": [
    "Few Findings:\n",
    "* There are some title with the same meaning that should be joined together and also many unique titles that we will group under the title `Noble`."
   ]
  },
  {
   "cell_type": "markdown",
   "id": "662d48b3",
   "metadata": {},
   "source": [
    "We will analyze the `Title` = `Mr` & `Master` with respective to their `Age`."
   ]
  },
  {
   "cell_type": "code",
   "execution_count": 17,
   "id": "a231bed4",
   "metadata": {},
   "outputs": [
    {
     "data": {
      "text/plain": [
       "count    581.000000\n",
       "mean      32.252151\n",
       "std       12.422089\n",
       "min       11.000000\n",
       "25%       23.000000\n",
       "50%       29.000000\n",
       "75%       39.000000\n",
       "max       80.000000\n",
       "Name: Age, dtype: float64"
      ]
     },
     "execution_count": 17,
     "metadata": {},
     "output_type": "execute_result"
    }
   ],
   "source": [
    "X_train[X_train.Title.eq('Mr')].Age.describe()"
   ]
  },
  {
   "cell_type": "code",
   "execution_count": 18,
   "id": "e97d20ab",
   "metadata": {},
   "outputs": [
    {
     "data": {
      "text/plain": [
       "count    53.000000\n",
       "mean      5.482642\n",
       "std       4.161554\n",
       "min       0.330000\n",
       "25%       2.000000\n",
       "50%       4.000000\n",
       "75%       9.000000\n",
       "max      14.500000\n",
       "Name: Age, dtype: float64"
      ]
     },
     "execution_count": 18,
     "metadata": {},
     "output_type": "execute_result"
    }
   ],
   "source": [
    "X_train[X_train.Title.eq('Master')].Age.describe()"
   ]
  },
  {
   "cell_type": "markdown",
   "id": "a1b33c81",
   "metadata": {},
   "source": [
    "Few Findings:\n",
    "* Title `Mr` was used from 11 years old and `Master` to maximum 15 years old. `Master` is an antiquated title for an underage male. We will join them together and then split again at age 15 to have a clean delimiter."
   ]
  },
  {
   "cell_type": "code",
   "execution_count": 19,
   "id": "14917ecb",
   "metadata": {},
   "outputs": [],
   "source": [
    "# Grouping the same type of titles.\n",
    "# We also changed Miss to Mrs, but later we will convert back to Miss just for young females as for now Miss is not very usefull\n",
    "# as it represents a young lady and also an unmarried adult one of any age.\n",
    "\n",
    "\n",
    "females = ['Ms', 'Miss', 'Mlle', 'Mrs', 'Mme']\n",
    "X_train.loc[X_train.Title.isin(females), 'Title'] = 'Mrs'\n",
    "\n",
    "males = ['Master', 'Mr']\n",
    "X_train.loc[(X_train.Title.isin(males)), 'Title'] = 'Mr'\n",
    "\n",
    "# Change the titles for children to Master and Miss\n",
    "X_train.loc[(X_train.Title.eq('Mr') & X_train.Age.lt(15)), 'Title'] = 'Master'\n",
    "X_train.loc[(X_train.Title.eq('Mrs') & X_train.Age.lt(15)), 'Title'] = 'Miss'\n",
    "\n",
    "# Create noble title\n",
    "X_train.loc[(~X_train.Title.isin(females) & ~X_train.Title.isin(males)), 'Title'] = 'Noble'"
   ]
  },
  {
   "cell_type": "code",
   "execution_count": 20,
   "id": "82eeb525",
   "metadata": {},
   "outputs": [
    {
     "data": {
      "text/html": [
       "<div>\n",
       "<style scoped>\n",
       "    .dataframe tbody tr th:only-of-type {\n",
       "        vertical-align: middle;\n",
       "    }\n",
       "\n",
       "    .dataframe tbody tr th {\n",
       "        vertical-align: top;\n",
       "    }\n",
       "\n",
       "    .dataframe thead th {\n",
       "        text-align: right;\n",
       "    }\n",
       "</style>\n",
       "<table border=\"1\" class=\"dataframe\">\n",
       "  <thead>\n",
       "    <tr style=\"text-align: right;\">\n",
       "      <th></th>\n",
       "      <th>Pclass</th>\n",
       "      <th>Name</th>\n",
       "      <th>Sex</th>\n",
       "      <th>Age</th>\n",
       "      <th>SibSp</th>\n",
       "      <th>Parch</th>\n",
       "      <th>Ticket</th>\n",
       "      <th>Fare</th>\n",
       "      <th>Cabin</th>\n",
       "      <th>Embarked</th>\n",
       "      <th>LastName</th>\n",
       "      <th>Title</th>\n",
       "    </tr>\n",
       "  </thead>\n",
       "  <tbody>\n",
       "    <tr>\n",
       "      <th>1304</th>\n",
       "      <td>3</td>\n",
       "      <td>Spector, Mr. Woolf</td>\n",
       "      <td>male</td>\n",
       "      <td>NaN</td>\n",
       "      <td>0</td>\n",
       "      <td>0</td>\n",
       "      <td>A.5. 3236</td>\n",
       "      <td>8.0500</td>\n",
       "      <td>NaN</td>\n",
       "      <td>S</td>\n",
       "      <td>Spector</td>\n",
       "      <td>Mr</td>\n",
       "    </tr>\n",
       "    <tr>\n",
       "      <th>1305</th>\n",
       "      <td>1</td>\n",
       "      <td>Oliva y Ocana, Dona. Fermina</td>\n",
       "      <td>female</td>\n",
       "      <td>39.0</td>\n",
       "      <td>0</td>\n",
       "      <td>0</td>\n",
       "      <td>PC 17758</td>\n",
       "      <td>108.9000</td>\n",
       "      <td>C105</td>\n",
       "      <td>C</td>\n",
       "      <td>Oliva y Ocana</td>\n",
       "      <td>Noble</td>\n",
       "    </tr>\n",
       "    <tr>\n",
       "      <th>1306</th>\n",
       "      <td>3</td>\n",
       "      <td>Saether, Mr. Simon Sivertsen</td>\n",
       "      <td>male</td>\n",
       "      <td>38.5</td>\n",
       "      <td>0</td>\n",
       "      <td>0</td>\n",
       "      <td>SOTON/O.Q. 3101262</td>\n",
       "      <td>7.2500</td>\n",
       "      <td>NaN</td>\n",
       "      <td>S</td>\n",
       "      <td>Saether</td>\n",
       "      <td>Mr</td>\n",
       "    </tr>\n",
       "    <tr>\n",
       "      <th>1307</th>\n",
       "      <td>3</td>\n",
       "      <td>Ware, Mr. Frederick</td>\n",
       "      <td>male</td>\n",
       "      <td>NaN</td>\n",
       "      <td>0</td>\n",
       "      <td>0</td>\n",
       "      <td>359309</td>\n",
       "      <td>8.0500</td>\n",
       "      <td>NaN</td>\n",
       "      <td>S</td>\n",
       "      <td>Ware</td>\n",
       "      <td>Mr</td>\n",
       "    </tr>\n",
       "    <tr>\n",
       "      <th>1308</th>\n",
       "      <td>3</td>\n",
       "      <td>Peter, Master. Michael J</td>\n",
       "      <td>male</td>\n",
       "      <td>NaN</td>\n",
       "      <td>1</td>\n",
       "      <td>1</td>\n",
       "      <td>2668</td>\n",
       "      <td>22.3583</td>\n",
       "      <td>NaN</td>\n",
       "      <td>C</td>\n",
       "      <td>Peter</td>\n",
       "      <td>Mr</td>\n",
       "    </tr>\n",
       "  </tbody>\n",
       "</table>\n",
       "</div>"
      ],
      "text/plain": [
       "      Pclass                          Name     Sex   Age  SibSp  Parch  \\\n",
       "1304       3            Spector, Mr. Woolf    male   NaN      0      0   \n",
       "1305       1  Oliva y Ocana, Dona. Fermina  female  39.0      0      0   \n",
       "1306       3  Saether, Mr. Simon Sivertsen    male  38.5      0      0   \n",
       "1307       3           Ware, Mr. Frederick    male   NaN      0      0   \n",
       "1308       3      Peter, Master. Michael J    male   NaN      1      1   \n",
       "\n",
       "                  Ticket      Fare Cabin Embarked       LastName  Title  \n",
       "1304           A.5. 3236    8.0500   NaN        S        Spector     Mr  \n",
       "1305            PC 17758  108.9000  C105        C  Oliva y Ocana  Noble  \n",
       "1306  SOTON/O.Q. 3101262    7.2500   NaN        S        Saether     Mr  \n",
       "1307              359309    8.0500   NaN        S           Ware     Mr  \n",
       "1308                2668   22.3583   NaN        C          Peter     Mr  "
      ]
     },
     "execution_count": 20,
     "metadata": {},
     "output_type": "execute_result"
    }
   ],
   "source": [
    "X_train.tail(5)"
   ]
  },
  {
   "cell_type": "markdown",
   "id": "2c75c36d",
   "metadata": {},
   "source": [
    "Few findings:\n",
    "* We can see our new features `LastName` and `Title`.\n",
    "* Let's process our `dataframe` a bit more. \n",
    "* Let's deal with some missing values, add some more required features, and then we will start dropping out the unnecessary features for our analysis and model."
   ]
  },
  {
   "cell_type": "markdown",
   "id": "782ce8d5",
   "metadata": {},
   "source": [
    " Let's Visualize how the `Gender` has the importance during survival."
   ]
  },
  {
   "cell_type": "code",
   "execution_count": null,
   "id": "c22fd716",
   "metadata": {},
   "outputs": [],
   "source": [
    "#First copy the data to keep the original datset untouched for further exploration.\n",
    "X_copy = X_train.copy()"
   ]
  },
  {
   "cell_type": "code",
   "execution_count": null,
   "id": "88bed8b4",
   "metadata": {},
   "outputs": [],
   "source": []
  },
  {
   "cell_type": "code",
   "execution_count": null,
   "id": "46e0e8db",
   "metadata": {},
   "outputs": [],
   "source": []
  },
  {
   "cell_type": "code",
   "execution_count": null,
   "id": "5adf85c9",
   "metadata": {},
   "outputs": [],
   "source": []
  },
  {
   "cell_type": "markdown",
   "id": "ab51ab0e",
   "metadata": {},
   "source": [
    "Create `Price` feature\n",
    "* We should divide the Fare by number of passengers on the same ticket.\n",
    "* We will also create two new feature `Ticket_series` and `Ticket_nr` from `Ticket` feature.\n",
    "* We will Analyze Fare by ticket number to be sure that the Fare represents the full price of the ticket and not the price per person."
   ]
  },
  {
   "cell_type": "code",
   "execution_count": 21,
   "id": "5b8d0aa2",
   "metadata": {},
   "outputs": [
    {
     "data": {
      "text/plain": [
       "1"
      ]
     },
     "execution_count": 21,
     "metadata": {},
     "output_type": "execute_result"
    }
   ],
   "source": [
    "# Split Ticket by series and number\n",
    "X_train['Ticket_series'] = [i[0] if len(i) > 1 else 0 for i in X_train.Ticket.str.split()]\n",
    "X_train['Ticket_nr'] = [i[-1] for i in X_train.Ticket.str.split()]\n",
    "\n",
    "# Check if Fare min and Fare max of the same ticket number are the same\n",
    "df_fare = X_train[~X_train.Fare.isna()]\n",
    "multi_tickets = df_fare.groupby(df_fare.Ticket_nr[df_fare.Ticket_nr.duplicated()])\n",
    "(multi_tickets.Fare.min() != multi_tickets.Fare.max()).sum()"
   ]
  },
  {
   "cell_type": "markdown",
   "id": "089fb213",
   "metadata": {},
   "source": [
    "There is just `1` ticket where min and max don't correspond, we will ignore it as a mistake."
   ]
  },
  {
   "cell_type": "code",
   "execution_count": 22,
   "id": "037f0cbd",
   "metadata": {},
   "outputs": [
    {
     "data": {
      "text/html": [
       "<div>\n",
       "<style scoped>\n",
       "    .dataframe tbody tr th:only-of-type {\n",
       "        vertical-align: middle;\n",
       "    }\n",
       "\n",
       "    .dataframe tbody tr th {\n",
       "        vertical-align: top;\n",
       "    }\n",
       "\n",
       "    .dataframe thead th {\n",
       "        text-align: right;\n",
       "    }\n",
       "</style>\n",
       "<table border=\"1\" class=\"dataframe\">\n",
       "  <thead>\n",
       "    <tr style=\"text-align: right;\">\n",
       "      <th></th>\n",
       "      <th>LastName</th>\n",
       "      <th>Price</th>\n",
       "    </tr>\n",
       "  </thead>\n",
       "  <tbody>\n",
       "    <tr>\n",
       "      <th>0</th>\n",
       "      <td>Braund</td>\n",
       "      <td>7.0</td>\n",
       "    </tr>\n",
       "    <tr>\n",
       "      <th>1</th>\n",
       "      <td>Cumings</td>\n",
       "      <td>36.0</td>\n",
       "    </tr>\n",
       "    <tr>\n",
       "      <th>2</th>\n",
       "      <td>Heikkinen</td>\n",
       "      <td>8.0</td>\n",
       "    </tr>\n",
       "    <tr>\n",
       "      <th>3</th>\n",
       "      <td>Futrelle</td>\n",
       "      <td>27.0</td>\n",
       "    </tr>\n",
       "    <tr>\n",
       "      <th>4</th>\n",
       "      <td>Allen</td>\n",
       "      <td>8.0</td>\n",
       "    </tr>\n",
       "  </tbody>\n",
       "</table>\n",
       "</div>"
      ],
      "text/plain": [
       "    LastName  Price\n",
       "0     Braund    7.0\n",
       "1    Cumings   36.0\n",
       "2  Heikkinen    8.0\n",
       "3   Futrelle   27.0\n",
       "4      Allen    8.0"
      ]
     },
     "execution_count": 22,
     "metadata": {},
     "output_type": "execute_result"
    }
   ],
   "source": [
    "# Create a feature with the passengers number by ticket \n",
    "ticket_dict = X_train.groupby('Ticket_nr').LastName.count().to_dict()\n",
    "X_train['Passengers_ticket'] = X_train.Ticket_nr.map(ticket_dict)\n",
    "\n",
    "# Create Price feautre\n",
    "X_train['Price'] = (X_train.Fare / X_train.Passengers_ticket).round()\n",
    "X_train[['LastName','Price']].head()"
   ]
  },
  {
   "cell_type": "markdown",
   "id": "6b24d6a2",
   "metadata": {},
   "source": [
    "Create `Deck` feature\n",
    "* This feature will contain the deck letter after extracting it from the `cabin` feature"
   ]
  },
  {
   "cell_type": "code",
   "execution_count": 23,
   "id": "c7c07384",
   "metadata": {},
   "outputs": [
    {
     "data": {
      "text/plain": [
       "1014"
      ]
     },
     "execution_count": 23,
     "metadata": {},
     "output_type": "execute_result"
    }
   ],
   "source": [
    "# Extract Deck letter from Cabin column\n",
    "X_train['Deck'] = X_train.Cabin.str[0]\n",
    "\n",
    "# Check how many missing values we have at this step\n",
    "X_train.Deck.isna().sum()"
   ]
  },
  {
   "cell_type": "code",
   "execution_count": 24,
   "id": "9df934c2",
   "metadata": {},
   "outputs": [
    {
     "data": {
      "text/plain": [
       "Pclass  Deck\n",
       "1       C       94\n",
       "        B       65\n",
       "        D       40\n",
       "        E       34\n",
       "        A       22\n",
       "        T        1\n",
       "2       F       13\n",
       "        D        6\n",
       "        E        4\n",
       "3       F        8\n",
       "        G        5\n",
       "        E        3\n",
       "Name: Deck, dtype: int64"
      ]
     },
     "execution_count": 24,
     "metadata": {},
     "output_type": "execute_result"
    }
   ],
   "source": [
    "# Deck distribution by Pclass\n",
    "X_train.groupby('Pclass').Deck.value_counts()"
   ]
  },
  {
   "cell_type": "code",
   "execution_count": 25,
   "id": "2d8b2d6f",
   "metadata": {},
   "outputs": [
    {
     "data": {
      "text/plain": [
       "3    693\n",
       "2    254\n",
       "1     67\n",
       "Name: Pclass, dtype: int64"
      ]
     },
     "execution_count": 25,
     "metadata": {},
     "output_type": "execute_result"
    }
   ],
   "source": [
    "# Deck missing values by Pclass\n",
    "X_train.loc[X_train.Deck.isna(), 'Pclass'].value_counts()"
   ]
  },
  {
   "cell_type": "markdown",
   "id": "94bebfda",
   "metadata": {},
   "source": [
    "Our next steps:\n",
    "* We will impute the `Deck letter` based on `Ticket_nr`, if the same `Ticket_nr` already has an available value for `Deck` in other rows\n",
    "* We will impute based on `Lastname` using the same method as in the first step, but to be sure that the passengers are not from different families with the same `Lastname` we will use some filters in the process.\n",
    "* We will impute based on `Pclass`, as every `Pclass` was on separate Deck with some intersections between (from some google's information it confirms that class-deck distribution corresponds to our Deck distribution by `Pclass` analysis). To improve the accuracy we will check also the mean Price for each `Pclass-Deck` group to determine the Deck."
   ]
  },
  {
   "cell_type": "code",
   "execution_count": 26,
   "id": "54c7a490",
   "metadata": {},
   "outputs": [],
   "source": [
    "# Function for imputing Deck\n",
    "def impute_deck(feature):\n",
    "    for pclass in range(1, 4):\n",
    "        # Create a mapping dictionary\n",
    "        map_dic = (X_train[~X_train.Deck.isna() & X_train.Pclass.eq(pclass)]\n",
    "                   .groupby(feature).Deck.unique()\n",
    "                   .apply(list).to_dict())\n",
    "\n",
    "        # Keep just the keys with a single deck to avoid \n",
    "        # the same key on different decks\n",
    "        map_dic = {i:j[0] for i, j in map_dic.items() \n",
    "                   if len(j) == 1}\n",
    "\n",
    "        # Imputing Deck from map_dic\n",
    "        X_train.loc[X_train.Deck.isna() & X_train.Pclass.eq(pclass), \n",
    "               'Deck'] = X_train[feature].map(map_dic)\n",
    "\n",
    "    # Check how many missing values we have at this step\n",
    "    print(X_train.Deck.isna().sum())"
   ]
  },
  {
   "cell_type": "code",
   "execution_count": 27,
   "id": "16a3c20d",
   "metadata": {},
   "outputs": [
    {
     "name": "stdout",
     "output_type": "stream",
     "text": [
      "997\n"
     ]
    }
   ],
   "source": [
    "impute_deck('Ticket_nr')"
   ]
  },
  {
   "cell_type": "code",
   "execution_count": 28,
   "id": "703f3224",
   "metadata": {},
   "outputs": [
    {
     "name": "stdout",
     "output_type": "stream",
     "text": [
      "989\n"
     ]
    }
   ],
   "source": [
    "impute_deck('LastName')"
   ]
  },
  {
   "cell_type": "markdown",
   "id": "f1a83829",
   "metadata": {},
   "source": [
    "We have recovered `25` values, which is not much, but they correspond to reality, we will impute the rest later based on `Pclass` and `Price` as mentioned earlier."
   ]
  },
  {
   "cell_type": "code",
   "execution_count": 29,
   "id": "ee772886",
   "metadata": {},
   "outputs": [],
   "source": [
    "# List of titles\n",
    "titles = list(X_train.Title.unique())\n",
    "\n",
    "# Impute median Age by title\n",
    "for title in titles:\n",
    "    X_train.loc[(X_train.Age.isna() & X_train.Title.eq(title)), 'Age'] = X_train.loc[X_train.Title.eq(title), 'Age'].median()"
   ]
  },
  {
   "cell_type": "code",
   "execution_count": 30,
   "id": "792fb6b4",
   "metadata": {},
   "outputs": [
    {
     "data": {
      "text/plain": [
       "0"
      ]
     },
     "execution_count": 30,
     "metadata": {},
     "output_type": "execute_result"
    }
   ],
   "source": [
    "X_train.Age.isnull().sum()"
   ]
  },
  {
   "cell_type": "code",
   "execution_count": 31,
   "id": "f61b15ab",
   "metadata": {},
   "outputs": [
    {
     "data": {
      "text/html": [
       "<div>\n",
       "<style scoped>\n",
       "    .dataframe tbody tr th:only-of-type {\n",
       "        vertical-align: middle;\n",
       "    }\n",
       "\n",
       "    .dataframe tbody tr th {\n",
       "        vertical-align: top;\n",
       "    }\n",
       "\n",
       "    .dataframe thead th {\n",
       "        text-align: right;\n",
       "    }\n",
       "</style>\n",
       "<table border=\"1\" class=\"dataframe\">\n",
       "  <thead>\n",
       "    <tr style=\"text-align: right;\">\n",
       "      <th></th>\n",
       "      <th></th>\n",
       "      <th>count</th>\n",
       "      <th>mean</th>\n",
       "      <th>std</th>\n",
       "      <th>min</th>\n",
       "      <th>25%</th>\n",
       "      <th>50%</th>\n",
       "      <th>75%</th>\n",
       "      <th>max</th>\n",
       "    </tr>\n",
       "    <tr>\n",
       "      <th>Pclass</th>\n",
       "      <th>Deck</th>\n",
       "      <th></th>\n",
       "      <th></th>\n",
       "      <th></th>\n",
       "      <th></th>\n",
       "      <th></th>\n",
       "      <th></th>\n",
       "      <th></th>\n",
       "      <th></th>\n",
       "    </tr>\n",
       "  </thead>\n",
       "  <tbody>\n",
       "    <tr>\n",
       "      <th rowspan=\"6\" valign=\"top\">1</th>\n",
       "      <th>A</th>\n",
       "      <td>21.0</td>\n",
       "      <td>32.857143</td>\n",
       "      <td>7.066015</td>\n",
       "      <td>26.0</td>\n",
       "      <td>28.00</td>\n",
       "      <td>30.0</td>\n",
       "      <td>36.0</td>\n",
       "      <td>50.0</td>\n",
       "    </tr>\n",
       "    <tr>\n",
       "      <th>B</th>\n",
       "      <td>65.0</td>\n",
       "      <td>43.030769</td>\n",
       "      <td>25.892789</td>\n",
       "      <td>5.0</td>\n",
       "      <td>29.00</td>\n",
       "      <td>37.0</td>\n",
       "      <td>46.0</td>\n",
       "      <td>128.0</td>\n",
       "    </tr>\n",
       "    <tr>\n",
       "      <th>C</th>\n",
       "      <td>105.0</td>\n",
       "      <td>35.809524</td>\n",
       "      <td>9.686524</td>\n",
       "      <td>25.0</td>\n",
       "      <td>28.00</td>\n",
       "      <td>34.0</td>\n",
       "      <td>42.0</td>\n",
       "      <td>68.0</td>\n",
       "    </tr>\n",
       "    <tr>\n",
       "      <th>D</th>\n",
       "      <td>42.0</td>\n",
       "      <td>31.904762</td>\n",
       "      <td>9.714986</td>\n",
       "      <td>20.0</td>\n",
       "      <td>26.00</td>\n",
       "      <td>27.5</td>\n",
       "      <td>38.0</td>\n",
       "      <td>67.0</td>\n",
       "    </tr>\n",
       "    <tr>\n",
       "      <th>E</th>\n",
       "      <td>35.0</td>\n",
       "      <td>26.342857</td>\n",
       "      <td>5.058149</td>\n",
       "      <td>9.0</td>\n",
       "      <td>26.50</td>\n",
       "      <td>27.0</td>\n",
       "      <td>28.0</td>\n",
       "      <td>38.0</td>\n",
       "    </tr>\n",
       "    <tr>\n",
       "      <th>T</th>\n",
       "      <td>1.0</td>\n",
       "      <td>36.000000</td>\n",
       "      <td>NaN</td>\n",
       "      <td>36.0</td>\n",
       "      <td>36.00</td>\n",
       "      <td>36.0</td>\n",
       "      <td>36.0</td>\n",
       "      <td>36.0</td>\n",
       "    </tr>\n",
       "    <tr>\n",
       "      <th rowspan=\"3\" valign=\"top\">2</th>\n",
       "      <th>D</th>\n",
       "      <td>6.0</td>\n",
       "      <td>13.666667</td>\n",
       "      <td>0.816497</td>\n",
       "      <td>13.0</td>\n",
       "      <td>13.00</td>\n",
       "      <td>13.5</td>\n",
       "      <td>14.0</td>\n",
       "      <td>15.0</td>\n",
       "    </tr>\n",
       "    <tr>\n",
       "      <th>E</th>\n",
       "      <td>6.0</td>\n",
       "      <td>9.500000</td>\n",
       "      <td>3.619392</td>\n",
       "      <td>5.0</td>\n",
       "      <td>6.25</td>\n",
       "      <td>11.0</td>\n",
       "      <td>12.0</td>\n",
       "      <td>13.0</td>\n",
       "    </tr>\n",
       "    <tr>\n",
       "      <th>F</th>\n",
       "      <td>16.0</td>\n",
       "      <td>10.937500</td>\n",
       "      <td>1.691892</td>\n",
       "      <td>9.0</td>\n",
       "      <td>10.00</td>\n",
       "      <td>10.0</td>\n",
       "      <td>13.0</td>\n",
       "      <td>13.0</td>\n",
       "    </tr>\n",
       "    <tr>\n",
       "      <th rowspan=\"3\" valign=\"top\">3</th>\n",
       "      <th>E</th>\n",
       "      <td>3.0</td>\n",
       "      <td>6.666667</td>\n",
       "      <td>1.154701</td>\n",
       "      <td>6.0</td>\n",
       "      <td>6.00</td>\n",
       "      <td>6.0</td>\n",
       "      <td>7.0</td>\n",
       "      <td>8.0</td>\n",
       "    </tr>\n",
       "    <tr>\n",
       "      <th>F</th>\n",
       "      <td>11.0</td>\n",
       "      <td>7.545455</td>\n",
       "      <td>0.522233</td>\n",
       "      <td>7.0</td>\n",
       "      <td>7.00</td>\n",
       "      <td>8.0</td>\n",
       "      <td>8.0</td>\n",
       "      <td>8.0</td>\n",
       "    </tr>\n",
       "    <tr>\n",
       "      <th>G</th>\n",
       "      <td>5.0</td>\n",
       "      <td>5.600000</td>\n",
       "      <td>0.547723</td>\n",
       "      <td>5.0</td>\n",
       "      <td>5.00</td>\n",
       "      <td>6.0</td>\n",
       "      <td>6.0</td>\n",
       "      <td>6.0</td>\n",
       "    </tr>\n",
       "  </tbody>\n",
       "</table>\n",
       "</div>"
      ],
      "text/plain": [
       "             count       mean        std   min    25%   50%   75%    max\n",
       "Pclass Deck                                                             \n",
       "1      A      21.0  32.857143   7.066015  26.0  28.00  30.0  36.0   50.0\n",
       "       B      65.0  43.030769  25.892789   5.0  29.00  37.0  46.0  128.0\n",
       "       C     105.0  35.809524   9.686524  25.0  28.00  34.0  42.0   68.0\n",
       "       D      42.0  31.904762   9.714986  20.0  26.00  27.5  38.0   67.0\n",
       "       E      35.0  26.342857   5.058149   9.0  26.50  27.0  28.0   38.0\n",
       "       T       1.0  36.000000        NaN  36.0  36.00  36.0  36.0   36.0\n",
       "2      D       6.0  13.666667   0.816497  13.0  13.00  13.5  14.0   15.0\n",
       "       E       6.0   9.500000   3.619392   5.0   6.25  11.0  12.0   13.0\n",
       "       F      16.0  10.937500   1.691892   9.0  10.00  10.0  13.0   13.0\n",
       "3      E       3.0   6.666667   1.154701   6.0   6.00   6.0   7.0    8.0\n",
       "       F      11.0   7.545455   0.522233   7.0   7.00   8.0   8.0    8.0\n",
       "       G       5.0   5.600000   0.547723   5.0   5.00   6.0   6.0    6.0"
      ]
     },
     "execution_count": 31,
     "metadata": {},
     "output_type": "execute_result"
    }
   ],
   "source": [
    "# Analyze Price by Deck and Pclass\n",
    "X_train.groupby(['Pclass', 'Deck']).Price.describe()"
   ]
  },
  {
   "cell_type": "markdown",
   "id": "5937e35e",
   "metadata": {},
   "source": [
    "We found that there is a very large standard deviation in `Pclass 1, Deck B` compared to others, we should analyze this!!!"
   ]
  },
  {
   "cell_type": "code",
   "execution_count": 32,
   "id": "f69d749f",
   "metadata": {},
   "outputs": [],
   "source": [
    "# Cabin T was on the upper deck (with the help of Google), \n",
    "# so we will replace it with Deck A as it has only one value\n",
    "X_train.loc[X_train.Deck.eq('T'), 'Deck'] = 'A'"
   ]
  },
  {
   "cell_type": "code",
   "execution_count": 33,
   "id": "933e35d4",
   "metadata": {},
   "outputs": [
    {
     "data": {
      "text/html": [
       "<div>\n",
       "<style scoped>\n",
       "    .dataframe tbody tr th:only-of-type {\n",
       "        vertical-align: middle;\n",
       "    }\n",
       "\n",
       "    .dataframe tbody tr th {\n",
       "        vertical-align: top;\n",
       "    }\n",
       "\n",
       "    .dataframe thead th {\n",
       "        text-align: right;\n",
       "    }\n",
       "</style>\n",
       "<table border=\"1\" class=\"dataframe\">\n",
       "  <thead>\n",
       "    <tr style=\"text-align: right;\">\n",
       "      <th></th>\n",
       "      <th>Pclass</th>\n",
       "      <th>Name</th>\n",
       "      <th>Sex</th>\n",
       "      <th>Age</th>\n",
       "      <th>SibSp</th>\n",
       "      <th>Parch</th>\n",
       "      <th>Ticket</th>\n",
       "      <th>Fare</th>\n",
       "      <th>Cabin</th>\n",
       "      <th>Embarked</th>\n",
       "      <th>LastName</th>\n",
       "      <th>Title</th>\n",
       "      <th>Ticket_series</th>\n",
       "      <th>Ticket_nr</th>\n",
       "      <th>Passengers_ticket</th>\n",
       "      <th>Price</th>\n",
       "      <th>Deck</th>\n",
       "    </tr>\n",
       "  </thead>\n",
       "  <tbody>\n",
       "    <tr>\n",
       "      <th>872</th>\n",
       "      <td>1</td>\n",
       "      <td>Carlsson, Mr. Frans Olof</td>\n",
       "      <td>male</td>\n",
       "      <td>33.0</td>\n",
       "      <td>0</td>\n",
       "      <td>0</td>\n",
       "      <td>695</td>\n",
       "      <td>5.0</td>\n",
       "      <td>B51 B53 B55</td>\n",
       "      <td>S</td>\n",
       "      <td>Carlsson</td>\n",
       "      <td>Mr</td>\n",
       "      <td>0</td>\n",
       "      <td>695</td>\n",
       "      <td>1</td>\n",
       "      <td>5.0</td>\n",
       "      <td>B</td>\n",
       "    </tr>\n",
       "    <tr>\n",
       "      <th>690</th>\n",
       "      <td>1</td>\n",
       "      <td>Dick, Mr. Albert Adrian</td>\n",
       "      <td>male</td>\n",
       "      <td>31.0</td>\n",
       "      <td>1</td>\n",
       "      <td>0</td>\n",
       "      <td>17474</td>\n",
       "      <td>57.0</td>\n",
       "      <td>B20</td>\n",
       "      <td>S</td>\n",
       "      <td>Dick</td>\n",
       "      <td>Mr</td>\n",
       "      <td>0</td>\n",
       "      <td>17474</td>\n",
       "      <td>3</td>\n",
       "      <td>19.0</td>\n",
       "      <td>B</td>\n",
       "    </tr>\n",
       "    <tr>\n",
       "      <th>781</th>\n",
       "      <td>1</td>\n",
       "      <td>Dick, Mrs. Albert Adrian (Vera Gillespie)</td>\n",
       "      <td>female</td>\n",
       "      <td>17.0</td>\n",
       "      <td>1</td>\n",
       "      <td>0</td>\n",
       "      <td>17474</td>\n",
       "      <td>57.0</td>\n",
       "      <td>B20</td>\n",
       "      <td>S</td>\n",
       "      <td>Dick</td>\n",
       "      <td>Mrs</td>\n",
       "      <td>0</td>\n",
       "      <td>17474</td>\n",
       "      <td>3</td>\n",
       "      <td>19.0</td>\n",
       "      <td>B</td>\n",
       "    </tr>\n",
       "    <tr>\n",
       "      <th>1199</th>\n",
       "      <td>1</td>\n",
       "      <td>Hays, Mr. Charles Melville</td>\n",
       "      <td>male</td>\n",
       "      <td>55.0</td>\n",
       "      <td>1</td>\n",
       "      <td>1</td>\n",
       "      <td>12749</td>\n",
       "      <td>93.5</td>\n",
       "      <td>B69</td>\n",
       "      <td>S</td>\n",
       "      <td>Hays</td>\n",
       "      <td>Mr</td>\n",
       "      <td>0</td>\n",
       "      <td>12749</td>\n",
       "      <td>4</td>\n",
       "      <td>23.0</td>\n",
       "      <td>B</td>\n",
       "    </tr>\n",
       "    <tr>\n",
       "      <th>1281</th>\n",
       "      <td>1</td>\n",
       "      <td>Payne, Mr. Vivian Ponsonby</td>\n",
       "      <td>male</td>\n",
       "      <td>23.0</td>\n",
       "      <td>0</td>\n",
       "      <td>0</td>\n",
       "      <td>12749</td>\n",
       "      <td>93.5</td>\n",
       "      <td>B24</td>\n",
       "      <td>S</td>\n",
       "      <td>Payne</td>\n",
       "      <td>Mr</td>\n",
       "      <td>0</td>\n",
       "      <td>12749</td>\n",
       "      <td>4</td>\n",
       "      <td>23.0</td>\n",
       "      <td>B</td>\n",
       "    </tr>\n",
       "  </tbody>\n",
       "</table>\n",
       "</div>"
      ],
      "text/plain": [
       "      Pclass                                       Name     Sex   Age  SibSp  \\\n",
       "872        1                   Carlsson, Mr. Frans Olof    male  33.0      0   \n",
       "690        1                    Dick, Mr. Albert Adrian    male  31.0      1   \n",
       "781        1  Dick, Mrs. Albert Adrian (Vera Gillespie)  female  17.0      1   \n",
       "1199       1                 Hays, Mr. Charles Melville    male  55.0      1   \n",
       "1281       1                 Payne, Mr. Vivian Ponsonby    male  23.0      0   \n",
       "\n",
       "      Parch Ticket  Fare        Cabin Embarked  LastName Title Ticket_series  \\\n",
       "872       0    695   5.0  B51 B53 B55        S  Carlsson    Mr             0   \n",
       "690       0  17474  57.0          B20        S      Dick    Mr             0   \n",
       "781       0  17474  57.0          B20        S      Dick   Mrs             0   \n",
       "1199      1  12749  93.5          B69        S      Hays    Mr             0   \n",
       "1281      0  12749  93.5          B24        S     Payne    Mr             0   \n",
       "\n",
       "     Ticket_nr  Passengers_ticket  Price Deck  \n",
       "872        695                  1    5.0    B  \n",
       "690      17474                  3   19.0    B  \n",
       "781      17474                  3   19.0    B  \n",
       "1199     12749                  4   23.0    B  \n",
       "1281     12749                  4   23.0    B  "
      ]
     },
     "execution_count": 33,
     "metadata": {},
     "output_type": "execute_result"
    }
   ],
   "source": [
    "# Let's Check the cheapest prices for Deck B\n",
    "X_train[X_train.Deck.eq('B')].sort_values('Price').head()"
   ]
  },
  {
   "cell_type": "markdown",
   "id": "32d60b98",
   "metadata": {},
   "source": [
    "We found an `outlier` as `Mr Carlsson`, with `Ticket_nr no. - 695` has bought the ticket with very low amount of price compared to others. We know that this may be a mistake so will correct this !!!"
   ]
  },
  {
   "cell_type": "code",
   "execution_count": 34,
   "id": "b1c184ef",
   "metadata": {},
   "outputs": [],
   "source": [
    "# this value is an outlier that we will replace with the next min\n",
    "X_train.loc[X_train.Ticket_nr.eq('695'), 'Price'] = 19"
   ]
  },
  {
   "cell_type": "code",
   "execution_count": 35,
   "id": "44efcba3",
   "metadata": {},
   "outputs": [
    {
     "data": {
      "text/html": [
       "<div>\n",
       "<style scoped>\n",
       "    .dataframe tbody tr th:only-of-type {\n",
       "        vertical-align: middle;\n",
       "    }\n",
       "\n",
       "    .dataframe tbody tr th {\n",
       "        vertical-align: top;\n",
       "    }\n",
       "\n",
       "    .dataframe thead th {\n",
       "        text-align: right;\n",
       "    }\n",
       "</style>\n",
       "<table border=\"1\" class=\"dataframe\">\n",
       "  <thead>\n",
       "    <tr style=\"text-align: right;\">\n",
       "      <th></th>\n",
       "      <th>Pclass</th>\n",
       "      <th>Name</th>\n",
       "      <th>Sex</th>\n",
       "      <th>Age</th>\n",
       "      <th>SibSp</th>\n",
       "      <th>Parch</th>\n",
       "      <th>Ticket</th>\n",
       "      <th>Fare</th>\n",
       "      <th>Cabin</th>\n",
       "      <th>Embarked</th>\n",
       "      <th>LastName</th>\n",
       "      <th>Title</th>\n",
       "      <th>Ticket_series</th>\n",
       "      <th>Ticket_nr</th>\n",
       "      <th>Passengers_ticket</th>\n",
       "      <th>Price</th>\n",
       "      <th>Deck</th>\n",
       "    </tr>\n",
       "  </thead>\n",
       "  <tbody>\n",
       "    <tr>\n",
       "      <th>1234</th>\n",
       "      <td>1</td>\n",
       "      <td>Cardeza, Mrs. James Warburton Martinez (Charlo...</td>\n",
       "      <td>female</td>\n",
       "      <td>58.0</td>\n",
       "      <td>0</td>\n",
       "      <td>1</td>\n",
       "      <td>PC 17755</td>\n",
       "      <td>512.3292</td>\n",
       "      <td>B51 B53 B55</td>\n",
       "      <td>C</td>\n",
       "      <td>Cardeza</td>\n",
       "      <td>Mrs</td>\n",
       "      <td>PC</td>\n",
       "      <td>17755</td>\n",
       "      <td>4</td>\n",
       "      <td>128.0</td>\n",
       "      <td>B</td>\n",
       "    </tr>\n",
       "    <tr>\n",
       "      <th>258</th>\n",
       "      <td>1</td>\n",
       "      <td>Ward, Miss. Anna</td>\n",
       "      <td>female</td>\n",
       "      <td>35.0</td>\n",
       "      <td>0</td>\n",
       "      <td>0</td>\n",
       "      <td>PC 17755</td>\n",
       "      <td>512.3292</td>\n",
       "      <td>NaN</td>\n",
       "      <td>C</td>\n",
       "      <td>Ward</td>\n",
       "      <td>Mrs</td>\n",
       "      <td>PC</td>\n",
       "      <td>17755</td>\n",
       "      <td>4</td>\n",
       "      <td>128.0</td>\n",
       "      <td>B</td>\n",
       "    </tr>\n",
       "    <tr>\n",
       "      <th>737</th>\n",
       "      <td>1</td>\n",
       "      <td>Lesurer, Mr. Gustave J</td>\n",
       "      <td>male</td>\n",
       "      <td>35.0</td>\n",
       "      <td>0</td>\n",
       "      <td>0</td>\n",
       "      <td>PC 17755</td>\n",
       "      <td>512.3292</td>\n",
       "      <td>B101</td>\n",
       "      <td>C</td>\n",
       "      <td>Lesurer</td>\n",
       "      <td>Mr</td>\n",
       "      <td>PC</td>\n",
       "      <td>17755</td>\n",
       "      <td>4</td>\n",
       "      <td>128.0</td>\n",
       "      <td>B</td>\n",
       "    </tr>\n",
       "    <tr>\n",
       "      <th>679</th>\n",
       "      <td>1</td>\n",
       "      <td>Cardeza, Mr. Thomas Drake Martinez</td>\n",
       "      <td>male</td>\n",
       "      <td>36.0</td>\n",
       "      <td>0</td>\n",
       "      <td>1</td>\n",
       "      <td>PC 17755</td>\n",
       "      <td>512.3292</td>\n",
       "      <td>B51 B53 B55</td>\n",
       "      <td>C</td>\n",
       "      <td>Cardeza</td>\n",
       "      <td>Mr</td>\n",
       "      <td>PC</td>\n",
       "      <td>17755</td>\n",
       "      <td>4</td>\n",
       "      <td>128.0</td>\n",
       "      <td>B</td>\n",
       "    </tr>\n",
       "    <tr>\n",
       "      <th>118</th>\n",
       "      <td>1</td>\n",
       "      <td>Baxter, Mr. Quigg Edmond</td>\n",
       "      <td>male</td>\n",
       "      <td>24.0</td>\n",
       "      <td>0</td>\n",
       "      <td>1</td>\n",
       "      <td>PC 17558</td>\n",
       "      <td>247.5208</td>\n",
       "      <td>B58 B60</td>\n",
       "      <td>C</td>\n",
       "      <td>Baxter</td>\n",
       "      <td>Mr</td>\n",
       "      <td>PC</td>\n",
       "      <td>17558</td>\n",
       "      <td>3</td>\n",
       "      <td>83.0</td>\n",
       "      <td>B</td>\n",
       "    </tr>\n",
       "  </tbody>\n",
       "</table>\n",
       "</div>"
      ],
      "text/plain": [
       "      Pclass                                               Name     Sex   Age  \\\n",
       "1234       1  Cardeza, Mrs. James Warburton Martinez (Charlo...  female  58.0   \n",
       "258        1                                   Ward, Miss. Anna  female  35.0   \n",
       "737        1                             Lesurer, Mr. Gustave J    male  35.0   \n",
       "679        1                 Cardeza, Mr. Thomas Drake Martinez    male  36.0   \n",
       "118        1                           Baxter, Mr. Quigg Edmond    male  24.0   \n",
       "\n",
       "      SibSp  Parch    Ticket      Fare        Cabin Embarked LastName Title  \\\n",
       "1234      0      1  PC 17755  512.3292  B51 B53 B55        C  Cardeza   Mrs   \n",
       "258       0      0  PC 17755  512.3292          NaN        C     Ward   Mrs   \n",
       "737       0      0  PC 17755  512.3292         B101        C  Lesurer    Mr   \n",
       "679       0      1  PC 17755  512.3292  B51 B53 B55        C  Cardeza    Mr   \n",
       "118       0      1  PC 17558  247.5208      B58 B60        C   Baxter    Mr   \n",
       "\n",
       "     Ticket_series Ticket_nr  Passengers_ticket  Price Deck  \n",
       "1234            PC     17755                  4  128.0    B  \n",
       "258             PC     17755                  4  128.0    B  \n",
       "737             PC     17755                  4  128.0    B  \n",
       "679             PC     17755                  4  128.0    B  \n",
       "118             PC     17558                  3   83.0    B  "
      ]
     },
     "execution_count": 35,
     "metadata": {},
     "output_type": "execute_result"
    }
   ],
   "source": [
    "# Check the most expensive prices for Deck B\n",
    "X_train[X_train.Deck.eq('B')].sort_values('Price', ascending=False).head(5)"
   ]
  },
  {
   "cell_type": "markdown",
   "id": "619f239d",
   "metadata": {},
   "source": [
    "There are 2 outliers as in most expensive tickets as `Ticket_nr` number - `17755` & `17558` are repeated. We will correct this one too !!!"
   ]
  },
  {
   "cell_type": "code",
   "execution_count": 36,
   "id": "d31d9e4e",
   "metadata": {},
   "outputs": [],
   "source": [
    "# Two most expensive tickets are outliers,\n",
    "# we will cap them at the next overall highest Price \n",
    "X_train.loc[X_train.Ticket_nr.eq('17755'), 'Price'] = 68\n",
    "X_train.loc[X_train.Ticket_nr.eq('17558'), 'Price'] = 68"
   ]
  },
  {
   "cell_type": "markdown",
   "id": "465eee6f",
   "metadata": {},
   "source": [
    "Impute missing prices"
   ]
  },
  {
   "cell_type": "code",
   "execution_count": 37,
   "id": "a0c3ada6",
   "metadata": {},
   "outputs": [],
   "source": [
    "# Create a data frame of mean prices by Pclass and Deck \n",
    "class_deck_price = pd.DataFrame(X_train.groupby(['Pclass', 'Deck'])\n",
    "                                .Price.mean().round(2)).reset_index()\n",
    "\n",
    "# Impute missing prices \n",
    "# Where Deck is missing we will use the mean price by Pclass only\n",
    "for index, row in X_train.loc[X_train.Price.isna(), \n",
    "                         ['Pclass', 'Deck']].iterrows():\n",
    "    if not pd.isna(row.Deck):\n",
    "        new_price = class_deck_price.loc[\n",
    "            (class_deck_price.Pclass.eq(row.Pclass) \n",
    "            & class_deck_price.Deck.eq(row.Deck)), 'Price'].mean()\n",
    "    else:\n",
    "        new_price = class_deck_price[\n",
    "            class_deck_price.Pclass.eq(row.Pclass)].Price.mean()\n",
    "\n",
    "    X_train.loc[[index], 'Price'] = new_price"
   ]
  },
  {
   "cell_type": "markdown",
   "id": "47787914",
   "metadata": {},
   "source": [
    "Encode and impute missing Deck."
   ]
  },
  {
   "cell_type": "code",
   "execution_count": 38,
   "id": "a497b510",
   "metadata": {},
   "outputs": [],
   "source": [
    "# Create dictionaries with aproximative price ranges by deck \n",
    "# concluded from previous analisys\n",
    "first_cl = {'A': [25, 30],\n",
    "            'B': [35, 70],\n",
    "            'C': [30, 35],\n",
    "            'D': [19, 25],\n",
    "            'E': [9, 19]}\n",
    "\n",
    "second_cl = {'D': [13, 17],\n",
    "             'E': [5, 9],\n",
    "             'F': [9, 13]}\n",
    "\n",
    "third_cl = {'E': [8, 9],\n",
    "            'F': [9, 21],\n",
    "            'G': [0, 8]}\n",
    "\n",
    "# Create a dictionary pairing Pclass and respective price dictionary\n",
    "class_dict = {1: first_cl,\n",
    "              2: second_cl,\n",
    "              3: third_cl}\n",
    "\n",
    "# Impute missing Deck values \n",
    "for index, row in X_train.loc[X_train.Deck.isna(), ['Pclass', 'Price']].iterrows():\n",
    "    for c, d in class_dict.items():\n",
    "        if row.Pclass == c:\n",
    "            for i, j in d.items():\n",
    "                if max(j) > row.Price >= min(j):\n",
    "                    X_train.loc[[index], 'Deck'] = i\n",
    "\n",
    "# Encode Deck with it's deck level number counting from the bottom\n",
    "deck_level = {'G': 1, 'F': 2, 'E': 3, 'D': 4, 'C': 5, 'B': 6, 'A': 7}\n",
    "\n",
    "X_train.Deck = X_train.Deck.replace(deck_level)"
   ]
  },
  {
   "cell_type": "markdown",
   "id": "edfef81e",
   "metadata": {},
   "source": [
    "Create `Escape_density` feature\n",
    "* Crowded decks could lead to jams and chaos. Everybody wanted to go to the upper deck as the lifeboats were there. \n",
    "* This feature will show through that how many passengers from each deck needed to pass the different decks full of passengers to arrive on top. \n",
    "* For each deck we will have a number of people equal to the sum of its own value and all the decks that are upper from it."
   ]
  },
  {
   "cell_type": "code",
   "execution_count": 39,
   "id": "70cd3c05",
   "metadata": {},
   "outputs": [
    {
     "data": {
      "text/plain": [
       "{1: 283, 2: 202, 3: 408, 4: 176, 5: 116, 6: 76, 7: 48}"
      ]
     },
     "execution_count": 39,
     "metadata": {},
     "output_type": "execute_result"
    }
   ],
   "source": [
    "# Analyse how many people were on each deck.\n",
    "# Many values were imputed with aproximation,but at least we will have an aproximative \n",
    "# crowd mass for each passenger that has to pass while going up.\n",
    "\n",
    "deck_people = X_train.Deck.value_counts().sort_index()\n",
    "deck_people_dic = deck_people.to_dict()\n",
    "deck_people_dic"
   ]
  },
  {
   "cell_type": "code",
   "execution_count": 40,
   "id": "57decd91",
   "metadata": {},
   "outputs": [
    {
     "data": {
      "text/plain": [
       "{1: 1309, 2: 1026, 3: 824, 4: 416, 5: 240, 6: 124, 7: 48}"
      ]
     },
     "execution_count": 40,
     "metadata": {},
     "output_type": "execute_result"
    }
   ],
   "source": [
    "# Create an escape density dictionary from which we will impute data to our new feature\n",
    "escape_density = {}\n",
    "for i in range(1, 8):\n",
    "    escape_density[i] = sum(deck_people_dic.values())\n",
    "    del deck_people_dic[i]\n",
    "    \n",
    "escape_density"
   ]
  },
  {
   "cell_type": "code",
   "execution_count": 41,
   "id": "7b4e5828",
   "metadata": {},
   "outputs": [
    {
     "data": {
      "text/plain": [
       "0    1309\n",
       "1     240\n",
       "2     824\n",
       "Name: Escape_density, dtype: int64"
      ]
     },
     "execution_count": 41,
     "metadata": {},
     "output_type": "execute_result"
    }
   ],
   "source": [
    "# Create Escape_density column\n",
    "X_train['Escape_density'] = X_train.Deck.replace(escape_density)\n",
    "X_train['Escape_density'].head(3)"
   ]
  },
  {
   "cell_type": "markdown",
   "id": "a0483238",
   "metadata": {},
   "source": [
    "Let's create `Family_size` & `Family_survivers` features\n",
    "* `Family_size` feature will represent size of the family. How many family members were there in a family while traveling on this ship?\n",
    "* `Family_survivers` feature can't be used for modeling as it would lead to target leakage, but by analyzing it later we can separate families that could have higher surviving chance."
   ]
  },
  {
   "cell_type": "code",
   "execution_count": 42,
   "id": "54f35bac",
   "metadata": {},
   "outputs": [],
   "source": [
    "# We add together the person and his SibSp and Parch\n",
    "X_train['Family_size'] = 1 + X_train.SibSp + X_train.Parch"
   ]
  },
  {
   "cell_type": "code",
   "execution_count": 43,
   "id": "36ccb342",
   "metadata": {},
   "outputs": [],
   "source": [
    "# Create full data frame for analysis\n",
    "X = X_train[:X_max_index]\n",
    "Y = X_train[X_max_index:].copy()\n",
    "train_df = pd.concat([X, y], axis=1).copy()\n",
    "\n",
    "# Check for families that has survivers and create a dictionary with mean value of their family survivability\n",
    "family_survivers = train_df[['LastName', 'Survived']].groupby('LastName').mean().round(2).reset_index()\n",
    "family_survivers_dict = dict(zip(family_survivers.LastName, family_survivers.Survived))\n",
    "\n",
    "# Reduce the dictionary to the list of families that are both in train and test data\n",
    "common_survivers = {}\n",
    "for lastname, survived in family_survivers_dict.items():\n",
    "    if lastname in list(Y['LastName'].unique()):\n",
    "        common_survivers[lastname] = survived\n",
    "\n",
    "# Create Family_survivers feature\n",
    "Y['Family_survivers'] = Y.LastName.map(common_survivers)\n",
    "train_df['Family_survivers'] = train_df.LastName.map(common_survivers)\n",
    "\n",
    "# For the families that are not present in both train and test we will impute the overall mean value\n",
    "Y.Family_survivers = Y.Family_survivers.fillna(Y.Family_survivers.mean())\n",
    "X_train.Family_survivers = train_df.Family_survivers.fillna(train_df.Family_survivers.mean())\n",
    "\n",
    "# Separate back features and target\n",
    "y = train_df.Survived\n",
    "\n",
    "X_train = train_df.drop('Survived', axis=1)\n",
    "X_train = pd.concat([X_train, Y], axis=0).reset_index(drop=True)"
   ]
  },
  {
   "cell_type": "code",
   "execution_count": 44,
   "id": "a4ae202d",
   "metadata": {},
   "outputs": [
    {
     "data": {
      "text/html": [
       "<div>\n",
       "<style scoped>\n",
       "    .dataframe tbody tr th:only-of-type {\n",
       "        vertical-align: middle;\n",
       "    }\n",
       "\n",
       "    .dataframe tbody tr th {\n",
       "        vertical-align: top;\n",
       "    }\n",
       "\n",
       "    .dataframe thead th {\n",
       "        text-align: right;\n",
       "    }\n",
       "</style>\n",
       "<table border=\"1\" class=\"dataframe\">\n",
       "  <thead>\n",
       "    <tr style=\"text-align: right;\">\n",
       "      <th></th>\n",
       "      <th>Pclass</th>\n",
       "      <th>Name</th>\n",
       "      <th>Sex</th>\n",
       "      <th>Age</th>\n",
       "      <th>SibSp</th>\n",
       "      <th>Parch</th>\n",
       "      <th>Ticket</th>\n",
       "      <th>Fare</th>\n",
       "      <th>Cabin</th>\n",
       "      <th>Embarked</th>\n",
       "      <th>LastName</th>\n",
       "      <th>Title</th>\n",
       "      <th>Ticket_series</th>\n",
       "      <th>Ticket_nr</th>\n",
       "      <th>Passengers_ticket</th>\n",
       "      <th>Price</th>\n",
       "      <th>Deck</th>\n",
       "      <th>Escape_density</th>\n",
       "      <th>Family_size</th>\n",
       "      <th>Family_survivers</th>\n",
       "    </tr>\n",
       "  </thead>\n",
       "  <tbody>\n",
       "    <tr>\n",
       "      <th>0</th>\n",
       "      <td>3</td>\n",
       "      <td>Braund, Mr. Owen Harris</td>\n",
       "      <td>male</td>\n",
       "      <td>22.0</td>\n",
       "      <td>1</td>\n",
       "      <td>0</td>\n",
       "      <td>A/5 21171</td>\n",
       "      <td>7.2500</td>\n",
       "      <td>NaN</td>\n",
       "      <td>S</td>\n",
       "      <td>Braund</td>\n",
       "      <td>Mr</td>\n",
       "      <td>A/5</td>\n",
       "      <td>21171</td>\n",
       "      <td>1</td>\n",
       "      <td>7.0</td>\n",
       "      <td>1</td>\n",
       "      <td>1309</td>\n",
       "      <td>2</td>\n",
       "      <td>NaN</td>\n",
       "    </tr>\n",
       "    <tr>\n",
       "      <th>1</th>\n",
       "      <td>1</td>\n",
       "      <td>Cumings, Mrs. John Bradley (Florence Briggs Th...</td>\n",
       "      <td>female</td>\n",
       "      <td>38.0</td>\n",
       "      <td>1</td>\n",
       "      <td>0</td>\n",
       "      <td>PC 17599</td>\n",
       "      <td>71.2833</td>\n",
       "      <td>C85</td>\n",
       "      <td>C</td>\n",
       "      <td>Cumings</td>\n",
       "      <td>Mrs</td>\n",
       "      <td>PC</td>\n",
       "      <td>17599</td>\n",
       "      <td>2</td>\n",
       "      <td>36.0</td>\n",
       "      <td>5</td>\n",
       "      <td>240</td>\n",
       "      <td>2</td>\n",
       "      <td>1.0</td>\n",
       "    </tr>\n",
       "    <tr>\n",
       "      <th>2</th>\n",
       "      <td>3</td>\n",
       "      <td>Heikkinen, Miss. Laina</td>\n",
       "      <td>female</td>\n",
       "      <td>26.0</td>\n",
       "      <td>0</td>\n",
       "      <td>0</td>\n",
       "      <td>STON/O2. 3101282</td>\n",
       "      <td>7.9250</td>\n",
       "      <td>NaN</td>\n",
       "      <td>S</td>\n",
       "      <td>Heikkinen</td>\n",
       "      <td>Mrs</td>\n",
       "      <td>STON/O2.</td>\n",
       "      <td>3101282</td>\n",
       "      <td>1</td>\n",
       "      <td>8.0</td>\n",
       "      <td>3</td>\n",
       "      <td>824</td>\n",
       "      <td>1</td>\n",
       "      <td>NaN</td>\n",
       "    </tr>\n",
       "  </tbody>\n",
       "</table>\n",
       "</div>"
      ],
      "text/plain": [
       "   Pclass                                               Name     Sex   Age  \\\n",
       "0       3                            Braund, Mr. Owen Harris    male  22.0   \n",
       "1       1  Cumings, Mrs. John Bradley (Florence Briggs Th...  female  38.0   \n",
       "2       3                             Heikkinen, Miss. Laina  female  26.0   \n",
       "\n",
       "   SibSp  Parch            Ticket     Fare Cabin Embarked   LastName Title  \\\n",
       "0      1      0         A/5 21171   7.2500   NaN        S     Braund    Mr   \n",
       "1      1      0          PC 17599  71.2833   C85        C    Cumings   Mrs   \n",
       "2      0      0  STON/O2. 3101282   7.9250   NaN        S  Heikkinen   Mrs   \n",
       "\n",
       "  Ticket_series Ticket_nr  Passengers_ticket  Price  Deck  Escape_density  \\\n",
       "0           A/5     21171                  1    7.0     1            1309   \n",
       "1            PC     17599                  2   36.0     5             240   \n",
       "2      STON/O2.   3101282                  1    8.0     3             824   \n",
       "\n",
       "   Family_size  Family_survivers  \n",
       "0            2               NaN  \n",
       "1            2               1.0  \n",
       "2            1               NaN  "
      ]
     },
     "execution_count": 44,
     "metadata": {},
     "output_type": "execute_result"
    }
   ],
   "source": [
    "X_train.head(3)"
   ]
  },
  {
   "cell_type": "markdown",
   "id": "c9f88556",
   "metadata": {},
   "source": [
    "Let's clean our data a little bit."
   ]
  },
  {
   "cell_type": "code",
   "execution_count": 45,
   "id": "771b32f9",
   "metadata": {},
   "outputs": [
    {
     "data": {
      "text/plain": [
       "CategoricalDtype(categories=[1, 2, 3], ordered=False)"
      ]
     },
     "execution_count": 45,
     "metadata": {},
     "output_type": "execute_result"
    }
   ],
   "source": [
    "# Change Pclass dtype to category as it's a classification feature\n",
    "X_train.Pclass = X_train.Pclass.astype('category')\n",
    "X_train.Pclass.dtypes"
   ]
  },
  {
   "cell_type": "code",
   "execution_count": 46,
   "id": "9f008ab2",
   "metadata": {},
   "outputs": [
    {
     "data": {
      "text/html": [
       "<div>\n",
       "<style scoped>\n",
       "    .dataframe tbody tr th:only-of-type {\n",
       "        vertical-align: middle;\n",
       "    }\n",
       "\n",
       "    .dataframe tbody tr th {\n",
       "        vertical-align: top;\n",
       "    }\n",
       "\n",
       "    .dataframe thead th {\n",
       "        text-align: right;\n",
       "    }\n",
       "</style>\n",
       "<table border=\"1\" class=\"dataframe\">\n",
       "  <thead>\n",
       "    <tr style=\"text-align: right;\">\n",
       "      <th></th>\n",
       "      <th>Pclass</th>\n",
       "      <th>Sex</th>\n",
       "      <th>Age</th>\n",
       "      <th>SibSp</th>\n",
       "      <th>Parch</th>\n",
       "      <th>Embarked</th>\n",
       "      <th>Title</th>\n",
       "      <th>Price</th>\n",
       "      <th>Deck</th>\n",
       "      <th>Escape_density</th>\n",
       "      <th>Family_size</th>\n",
       "      <th>Family_survivers</th>\n",
       "    </tr>\n",
       "  </thead>\n",
       "  <tbody>\n",
       "    <tr>\n",
       "      <th>0</th>\n",
       "      <td>3</td>\n",
       "      <td>male</td>\n",
       "      <td>22.0</td>\n",
       "      <td>1</td>\n",
       "      <td>0</td>\n",
       "      <td>S</td>\n",
       "      <td>Mr</td>\n",
       "      <td>7.0</td>\n",
       "      <td>1</td>\n",
       "      <td>1309</td>\n",
       "      <td>2</td>\n",
       "      <td>NaN</td>\n",
       "    </tr>\n",
       "    <tr>\n",
       "      <th>1</th>\n",
       "      <td>1</td>\n",
       "      <td>female</td>\n",
       "      <td>38.0</td>\n",
       "      <td>1</td>\n",
       "      <td>0</td>\n",
       "      <td>C</td>\n",
       "      <td>Mrs</td>\n",
       "      <td>36.0</td>\n",
       "      <td>5</td>\n",
       "      <td>240</td>\n",
       "      <td>2</td>\n",
       "      <td>1.0</td>\n",
       "    </tr>\n",
       "    <tr>\n",
       "      <th>2</th>\n",
       "      <td>3</td>\n",
       "      <td>female</td>\n",
       "      <td>26.0</td>\n",
       "      <td>0</td>\n",
       "      <td>0</td>\n",
       "      <td>S</td>\n",
       "      <td>Mrs</td>\n",
       "      <td>8.0</td>\n",
       "      <td>3</td>\n",
       "      <td>824</td>\n",
       "      <td>1</td>\n",
       "      <td>NaN</td>\n",
       "    </tr>\n",
       "  </tbody>\n",
       "</table>\n",
       "</div>"
      ],
      "text/plain": [
       "  Pclass     Sex   Age  SibSp  Parch Embarked Title  Price  Deck  \\\n",
       "0      3    male  22.0      1      0        S    Mr    7.0     1   \n",
       "1      1  female  38.0      1      0        C   Mrs   36.0     5   \n",
       "2      3  female  26.0      0      0        S   Mrs    8.0     3   \n",
       "\n",
       "   Escape_density  Family_size  Family_survivers  \n",
       "0            1309            2               NaN  \n",
       "1             240            2               1.0  \n",
       "2             824            1               NaN  "
      ]
     },
     "execution_count": 46,
     "metadata": {},
     "output_type": "execute_result"
    }
   ],
   "source": [
    "# Drop further unused columns\n",
    "col_drop = ['Name', 'Ticket', 'Fare', 'Cabin', 'LastName','Ticket_nr',  \n",
    "            'Ticket_series', 'Passengers_ticket']\n",
    "X_train = X_train.drop(col_drop, axis=1)\n",
    "X_train.head(3)"
   ]
  },
  {
   "cell_type": "markdown",
   "id": "5f76efea",
   "metadata": {},
   "source": [
    "Impute and Encode Categorical features"
   ]
  },
  {
   "cell_type": "code",
   "execution_count": 47,
   "id": "0f6d1ec3",
   "metadata": {},
   "outputs": [],
   "source": [
    "# List of categorical columns\n",
    "categ_cols = list(X_train.select_dtypes(['object', 'category']).columns)\n",
    "\n",
    "# Impute categoricals with most frequent value\n",
    "cat_imputer = SimpleImputer(strategy='most_frequent')\n",
    "\n",
    "df_cat = pd.DataFrame(cat_imputer.fit_transform(X_train[categ_cols]), \n",
    "                      columns=X_train[categ_cols].columns)\n",
    "\n",
    "# Encode categorical\n",
    "df_cat = pd.get_dummies(df_cat)"
   ]
  },
  {
   "cell_type": "markdown",
   "id": "7d212ef8",
   "metadata": {},
   "source": [
    "Impute and Encode Numerical features"
   ]
  },
  {
   "cell_type": "code",
   "execution_count": 48,
   "id": "520e879f",
   "metadata": {},
   "outputs": [],
   "source": [
    "# List of numerical columns\n",
    "num_cols = list(X_train.select_dtypes(['int64', 'float64']).columns)\n",
    "\n",
    "# Impute numericals\n",
    "it_imp = IterativeImputer()\n",
    "\n",
    "df_num = pd.DataFrame(it_imp.fit_transform(X_train[num_cols]),\n",
    "                      columns=X_train[num_cols].columns)\n",
    "\n",
    "# Concatenate with encoded categorical columns\n",
    "X_train = pd.concat([df_cat, df_num], axis=1)"
   ]
  },
  {
   "cell_type": "code",
   "execution_count": 49,
   "id": "30713bef",
   "metadata": {},
   "outputs": [
    {
     "data": {
      "text/html": [
       "<div>\n",
       "<style scoped>\n",
       "    .dataframe tbody tr th:only-of-type {\n",
       "        vertical-align: middle;\n",
       "    }\n",
       "\n",
       "    .dataframe tbody tr th {\n",
       "        vertical-align: top;\n",
       "    }\n",
       "\n",
       "    .dataframe thead th {\n",
       "        text-align: right;\n",
       "    }\n",
       "</style>\n",
       "<table border=\"1\" class=\"dataframe\">\n",
       "  <thead>\n",
       "    <tr style=\"text-align: right;\">\n",
       "      <th></th>\n",
       "      <th>Pclass_1</th>\n",
       "      <th>Pclass_2</th>\n",
       "      <th>Pclass_3</th>\n",
       "      <th>Sex_female</th>\n",
       "      <th>Sex_male</th>\n",
       "      <th>Embarked_C</th>\n",
       "      <th>Embarked_Q</th>\n",
       "      <th>Embarked_S</th>\n",
       "      <th>Title_Master</th>\n",
       "      <th>Title_Miss</th>\n",
       "      <th>...</th>\n",
       "      <th>Title_Mrs</th>\n",
       "      <th>Title_Noble</th>\n",
       "      <th>Age</th>\n",
       "      <th>SibSp</th>\n",
       "      <th>Parch</th>\n",
       "      <th>Price</th>\n",
       "      <th>Deck</th>\n",
       "      <th>Escape_density</th>\n",
       "      <th>Family_size</th>\n",
       "      <th>Family_survivers</th>\n",
       "    </tr>\n",
       "  </thead>\n",
       "  <tbody>\n",
       "    <tr>\n",
       "      <th>0</th>\n",
       "      <td>0</td>\n",
       "      <td>0</td>\n",
       "      <td>1</td>\n",
       "      <td>0</td>\n",
       "      <td>1</td>\n",
       "      <td>0</td>\n",
       "      <td>0</td>\n",
       "      <td>1</td>\n",
       "      <td>0</td>\n",
       "      <td>0</td>\n",
       "      <td>...</td>\n",
       "      <td>0</td>\n",
       "      <td>0</td>\n",
       "      <td>22.0</td>\n",
       "      <td>1.0</td>\n",
       "      <td>0.0</td>\n",
       "      <td>7.0</td>\n",
       "      <td>1.0</td>\n",
       "      <td>1309.0</td>\n",
       "      <td>2.0</td>\n",
       "      <td>0.392584</td>\n",
       "    </tr>\n",
       "    <tr>\n",
       "      <th>1</th>\n",
       "      <td>1</td>\n",
       "      <td>0</td>\n",
       "      <td>0</td>\n",
       "      <td>1</td>\n",
       "      <td>0</td>\n",
       "      <td>1</td>\n",
       "      <td>0</td>\n",
       "      <td>0</td>\n",
       "      <td>0</td>\n",
       "      <td>0</td>\n",
       "      <td>...</td>\n",
       "      <td>1</td>\n",
       "      <td>0</td>\n",
       "      <td>38.0</td>\n",
       "      <td>1.0</td>\n",
       "      <td>0.0</td>\n",
       "      <td>36.0</td>\n",
       "      <td>5.0</td>\n",
       "      <td>240.0</td>\n",
       "      <td>2.0</td>\n",
       "      <td>1.000000</td>\n",
       "    </tr>\n",
       "    <tr>\n",
       "      <th>2</th>\n",
       "      <td>0</td>\n",
       "      <td>0</td>\n",
       "      <td>1</td>\n",
       "      <td>1</td>\n",
       "      <td>0</td>\n",
       "      <td>0</td>\n",
       "      <td>0</td>\n",
       "      <td>1</td>\n",
       "      <td>0</td>\n",
       "      <td>0</td>\n",
       "      <td>...</td>\n",
       "      <td>1</td>\n",
       "      <td>0</td>\n",
       "      <td>26.0</td>\n",
       "      <td>0.0</td>\n",
       "      <td>0.0</td>\n",
       "      <td>8.0</td>\n",
       "      <td>3.0</td>\n",
       "      <td>824.0</td>\n",
       "      <td>1.0</td>\n",
       "      <td>0.458262</td>\n",
       "    </tr>\n",
       "  </tbody>\n",
       "</table>\n",
       "<p>3 rows × 21 columns</p>\n",
       "</div>"
      ],
      "text/plain": [
       "   Pclass_1  Pclass_2  Pclass_3  Sex_female  Sex_male  Embarked_C  Embarked_Q  \\\n",
       "0         0         0         1           0         1           0           0   \n",
       "1         1         0         0           1         0           1           0   \n",
       "2         0         0         1           1         0           0           0   \n",
       "\n",
       "   Embarked_S  Title_Master  Title_Miss  ...  Title_Mrs  Title_Noble   Age  \\\n",
       "0           1             0           0  ...          0            0  22.0   \n",
       "1           0             0           0  ...          1            0  38.0   \n",
       "2           1             0           0  ...          1            0  26.0   \n",
       "\n",
       "   SibSp  Parch  Price  Deck  Escape_density  Family_size  Family_survivers  \n",
       "0    1.0    0.0    7.0   1.0          1309.0          2.0          0.392584  \n",
       "1    1.0    0.0   36.0   5.0           240.0          2.0          1.000000  \n",
       "2    0.0    0.0    8.0   3.0           824.0          1.0          0.458262  \n",
       "\n",
       "[3 rows x 21 columns]"
      ]
     },
     "execution_count": 49,
     "metadata": {},
     "output_type": "execute_result"
    }
   ],
   "source": [
    "#[optional] keeping a copy of our dataframe so we don't loose the original encoded dataframe while doing feature selection\n",
    "X_train_df = X_train.copy()\n",
    "X_train.head(3)"
   ]
  },
  {
   "cell_type": "markdown",
   "id": "e36361b2",
   "metadata": {},
   "source": [
    "Let's create `Deck_survive_ratio` feature"
   ]
  },
  {
   "cell_type": "code",
   "execution_count": 50,
   "id": "67066683",
   "metadata": {},
   "outputs": [
    {
     "data": {
      "text/plain": [
       "0    0.176678\n",
       "1    0.370690\n",
       "2    0.225490\n",
       "3    0.370690\n",
       "4    0.225490\n",
       "Name: Deck_survive_ratio, dtype: float64"
      ]
     },
     "execution_count": 50,
     "metadata": {},
     "output_type": "execute_result"
    }
   ],
   "source": [
    "# Create a full data frame for analysis\n",
    "X = X_train[:X_max_index]\n",
    "train_df = pd.concat([X, y], axis=1)\n",
    "\n",
    "# Total Survived by Deck\n",
    "deck_total_survived = train_df.groupby('Deck').Survived.sum()\n",
    "\n",
    "# Dictionary with deck_survive_ratio\n",
    "deck_survive_ratio = (deck_total_survived / deck_people).to_dict()\n",
    "\n",
    "# Create Deck_survive_ratio\n",
    "X_train['Deck_survive_ratio'] = X_train.Deck.map(deck_survive_ratio)\n",
    "X_train.Deck_survive_ratio.head()"
   ]
  },
  {
   "cell_type": "markdown",
   "id": "31bbf1d7",
   "metadata": {},
   "source": [
    "A function for visualizing the KDE plot respective to the feature."
   ]
  },
  {
   "cell_type": "code",
   "execution_count": 51,
   "id": "00f8de47",
   "metadata": {},
   "outputs": [],
   "source": [
    "# Function for KDE plotting\n",
    "def survive_chance_by(feature, xticks=None, xlim=None):\n",
    "    survived = train_df[train_df.Survived.eq(1)]\n",
    "    not_survived = train_df[train_df.Survived.eq(0)]\n",
    "\n",
    "    plt.figure(figsize=(10, 5))\n",
    "\n",
    "    survived[feature].plot(kind='kde', label='survived')\n",
    "    not_survived[feature].plot(kind='kde', label='not_survived')\n",
    "    \n",
    "    plt.xlim(xlim)\n",
    "    plt.xticks(xticks)\n",
    "    plt.legend()\n",
    "    plt.grid()\n",
    "    plt.xlabel(feature)\n",
    "    plt.show()"
   ]
  },
  {
   "cell_type": "code",
   "execution_count": 52,
   "id": "72fb1fef",
   "metadata": {},
   "outputs": [
    {
     "data": {
      "image/png": "[encoded data removed]",
      "text/plain": [
       "<Figure size 720x360 with 1 Axes>"
      ]
     },
     "metadata": {
      "needs_background": "light"
     },
     "output_type": "display_data"
    }
   ],
   "source": [
    "# Survivers by Age\n",
    "survive_chance_by('Age', np.arange(0, 81, 5), (0, 80))"
   ]
  },
  {
   "cell_type": "markdown",
   "id": "cf325a5e",
   "metadata": {},
   "source": [
    "<p>Few Findings:</p>\n",
    "<ol>\n",
    "    <li>0-16 years old have the higher survivability chance</li>\n",
    "    <li>16-33 years old had the lower chance of survival</li>\n",
    "    <li>33-43 years old had the better chance of survival</li>\n",
    "    <li>For the rest of the passengers the chances are almost equal</li>\n",
    "</ol>"
   ]
  },
  {
   "cell_type": "code",
   "execution_count": 53,
   "id": "e7bc8d80",
   "metadata": {},
   "outputs": [],
   "source": [
    "X_train['Age_group'] = pd.cut(x=X_train.Age, labels=[4, 1, 3, 2],\n",
    "                         bins=[-1, 16, 33, 43, X_train.Age.max()]).astype('float')"
   ]
  },
  {
   "cell_type": "code",
   "execution_count": 54,
   "id": "6150bf83",
   "metadata": {},
   "outputs": [
    {
     "data": {
      "image/png": "[encoded data removed]",
      "text/plain": [
       "<Figure size 720x360 with 1 Axes>"
      ]
     },
     "metadata": {
      "needs_background": "light"
     },
     "output_type": "display_data"
    }
   ],
   "source": [
    "# Survivers by Age\n",
    "survive_chance_by('Family_size', np.arange(0, 10, 1), (0, 10))"
   ]
  },
  {
   "cell_type": "markdown",
   "id": "e5804cb7",
   "metadata": {},
   "source": [
    "<p>Few Findings:<p>\n",
    "<ol>\n",
    "    <li>Single persons had lower chance to survive.</li>\n",
    "    <li>2 to 4 members in families had higher chances, as they had some priority to safe-boats with 1 or 2 children with them.</li>\n",
    "    <li>5 and more members families had almost equal  and lower chances of survival.</li>\n",
    "</ol>"
   ]
  },
  {
   "cell_type": "code",
   "execution_count": 55,
   "id": "f83b932f",
   "metadata": {},
   "outputs": [],
   "source": [
    "#Create Family_group feature\n",
    "X_train['Family_group'] = pd.cut(x=X_train.Family_size, labels=[1, 3, 2], \n",
    "                            bins=[-1, 1, 4, X_train.Family_size.max()]).astype('float')"
   ]
  },
  {
   "cell_type": "code",
   "execution_count": 56,
   "id": "61c269de",
   "metadata": {},
   "outputs": [
    {
     "data": {
      "image/png": "[encoded data removed]",
      "text/plain": [
       "<Figure size 720x360 with 1 Axes>"
      ]
     },
     "metadata": {
      "needs_background": "light"
     },
     "output_type": "display_data"
    }
   ],
   "source": [
    "# Survivers by Family_survivers\n",
    "survive_chance_by('Family_survivers', np.arange(0, 1.5, 0.1), (0, 1.5))"
   ]
  },
  {
   "cell_type": "code",
   "execution_count": 57,
   "id": "9c0259b2",
   "metadata": {},
   "outputs": [],
   "source": [
    "# Create Lucky_family feature\n",
    "X_train['Lucky_family'] = pd.cut(x=X_train.Family_survivers, labels=[2, 3, 1, 4],\n",
    "                            bins=[-1, 0.22, 0.35, 0.49, X_train.Family_survivers.max()]).astype('float')"
   ]
  },
  {
   "cell_type": "markdown",
   "id": "c0b8b764",
   "metadata": {},
   "source": [
    "Let's Standardize our value"
   ]
  },
  {
   "cell_type": "code",
   "execution_count": 58,
   "id": "fccc400e",
   "metadata": {},
   "outputs": [],
   "source": [
    "# Apply np.log to normalize the skewed right Price\n",
    "X_train.Price = X_train.Price.apply(np.log1p)\n",
    "\n",
    "# Standardize \n",
    "std_scaler = StandardScaler()\n",
    "\n",
    "df_scaled = std_scaler.fit_transform(X_train)\n",
    "X_train = pd.DataFrame(df_scaled, columns=X_train.columns)"
   ]
  },
  {
   "cell_type": "code",
   "execution_count": 59,
   "id": "f9a377a8",
   "metadata": {},
   "outputs": [
    {
     "data": {
      "text/html": [
       "<div>\n",
       "<style scoped>\n",
       "    .dataframe tbody tr th:only-of-type {\n",
       "        vertical-align: middle;\n",
       "    }\n",
       "\n",
       "    .dataframe tbody tr th {\n",
       "        vertical-align: top;\n",
       "    }\n",
       "\n",
       "    .dataframe thead th {\n",
       "        text-align: right;\n",
       "    }\n",
       "</style>\n",
       "<table border=\"1\" class=\"dataframe\">\n",
       "  <thead>\n",
       "    <tr style=\"text-align: right;\">\n",
       "      <th></th>\n",
       "      <th>Pclass_1</th>\n",
       "      <th>Pclass_2</th>\n",
       "      <th>Pclass_3</th>\n",
       "      <th>Sex_female</th>\n",
       "      <th>Sex_male</th>\n",
       "      <th>Embarked_C</th>\n",
       "      <th>Embarked_Q</th>\n",
       "      <th>Embarked_S</th>\n",
       "      <th>Title_Master</th>\n",
       "      <th>Title_Miss</th>\n",
       "      <th>...</th>\n",
       "      <th>Title_Mrs</th>\n",
       "      <th>Title_Noble</th>\n",
       "      <th>Age</th>\n",
       "      <th>Price</th>\n",
       "      <th>Deck</th>\n",
       "      <th>Escape_density</th>\n",
       "      <th>Deck_survive_ratio</th>\n",
       "      <th>Age_group</th>\n",
       "      <th>Family_group</th>\n",
       "      <th>Lucky_family</th>\n",
       "    </tr>\n",
       "  </thead>\n",
       "  <tbody>\n",
       "    <tr>\n",
       "      <th>0</th>\n",
       "      <td>-0.572351</td>\n",
       "      <td>-0.518084</td>\n",
       "      <td>0.919925</td>\n",
       "      <td>-0.743497</td>\n",
       "      <td>0.743497</td>\n",
       "      <td>-0.50977</td>\n",
       "      <td>-0.32204</td>\n",
       "      <td>0.655011</td>\n",
       "      <td>-0.21532</td>\n",
       "      <td>-0.201347</td>\n",
       "      <td>...</td>\n",
       "      <td>-0.676523</td>\n",
       "      <td>-0.15052</td>\n",
       "      <td>-0.598662</td>\n",
       "      <td>-0.751795</td>\n",
       "      <td>-1.265090</td>\n",
       "      <td>1.317009</td>\n",
       "      <td>-0.990076</td>\n",
       "      <td>-0.691263</td>\n",
       "      <td>1.365448</td>\n",
       "      <td>-0.847712</td>\n",
       "    </tr>\n",
       "    <tr>\n",
       "      <th>1</th>\n",
       "      <td>1.747178</td>\n",
       "      <td>-0.518084</td>\n",
       "      <td>-1.087045</td>\n",
       "      <td>1.344995</td>\n",
       "      <td>-1.344995</td>\n",
       "      <td>1.96167</td>\n",
       "      <td>-0.32204</td>\n",
       "      <td>-1.526692</td>\n",
       "      <td>-0.21532</td>\n",
       "      <td>-0.201347</td>\n",
       "      <td>...</td>\n",
       "      <td>1.478146</td>\n",
       "      <td>-0.15052</td>\n",
       "      <td>0.642372</td>\n",
       "      <td>1.744502</td>\n",
       "      <td>1.208402</td>\n",
       "      <td>-1.366309</td>\n",
       "      <td>1.280718</td>\n",
       "      <td>1.227853</td>\n",
       "      <td>1.365448</td>\n",
       "      <td>1.416890</td>\n",
       "    </tr>\n",
       "    <tr>\n",
       "      <th>2</th>\n",
       "      <td>-0.572351</td>\n",
       "      <td>-0.518084</td>\n",
       "      <td>0.919925</td>\n",
       "      <td>1.344995</td>\n",
       "      <td>-1.344995</td>\n",
       "      <td>-0.50977</td>\n",
       "      <td>-0.32204</td>\n",
       "      <td>0.655011</td>\n",
       "      <td>-0.21532</td>\n",
       "      <td>-0.201347</td>\n",
       "      <td>...</td>\n",
       "      <td>1.478146</td>\n",
       "      <td>-0.15052</td>\n",
       "      <td>-0.288404</td>\n",
       "      <td>-0.559809</td>\n",
       "      <td>-0.028344</td>\n",
       "      <td>0.099601</td>\n",
       "      <td>-0.418761</td>\n",
       "      <td>-0.691263</td>\n",
       "      <td>-0.785420</td>\n",
       "      <td>-0.847712</td>\n",
       "    </tr>\n",
       "  </tbody>\n",
       "</table>\n",
       "<p>3 rows × 21 columns</p>\n",
       "</div>"
      ],
      "text/plain": [
       "   Pclass_1  Pclass_2  Pclass_3  Sex_female  Sex_male  Embarked_C  Embarked_Q  \\\n",
       "0 -0.572351 -0.518084  0.919925   -0.743497  0.743497    -0.50977    -0.32204   \n",
       "1  1.747178 -0.518084 -1.087045    1.344995 -1.344995     1.96167    -0.32204   \n",
       "2 -0.572351 -0.518084  0.919925    1.344995 -1.344995    -0.50977    -0.32204   \n",
       "\n",
       "   Embarked_S  Title_Master  Title_Miss  ...  Title_Mrs  Title_Noble  \\\n",
       "0    0.655011      -0.21532   -0.201347  ...  -0.676523     -0.15052   \n",
       "1   -1.526692      -0.21532   -0.201347  ...   1.478146     -0.15052   \n",
       "2    0.655011      -0.21532   -0.201347  ...   1.478146     -0.15052   \n",
       "\n",
       "        Age     Price      Deck  Escape_density  Deck_survive_ratio  \\\n",
       "0 -0.598662 -0.751795 -1.265090        1.317009           -0.990076   \n",
       "1  0.642372  1.744502  1.208402       -1.366309            1.280718   \n",
       "2 -0.288404 -0.559809 -0.028344        0.099601           -0.418761   \n",
       "\n",
       "   Age_group  Family_group  Lucky_family  \n",
       "0  -0.691263      1.365448     -0.847712  \n",
       "1   1.227853      1.365448      1.416890  \n",
       "2  -0.691263     -0.785420     -0.847712  \n",
       "\n",
       "[3 rows x 21 columns]"
      ]
     },
     "execution_count": 59,
     "metadata": {},
     "output_type": "execute_result"
    }
   ],
   "source": [
    "# Drop features not used for modeling\n",
    "cols_to_drop = ['Family_survivers', 'SibSp', 'Parch', 'Family_size']\n",
    "X_train = X_train.drop(cols_to_drop, axis=1)\n",
    "X_train.head(3)"
   ]
  },
  {
   "cell_type": "markdown",
   "id": "6e102248",
   "metadata": {},
   "source": [
    "**Info of our `X_train` before splitting:**"
   ]
  },
  {
   "cell_type": "code",
   "execution_count": 60,
   "id": "38fb2276",
   "metadata": {},
   "outputs": [
    {
     "name": "stdout",
     "output_type": "stream",
     "text": [
      "<class 'pandas.core.frame.DataFrame'>\n",
      "RangeIndex: 1309 entries, 0 to 1308\n",
      "Data columns (total 21 columns):\n",
      " #   Column              Non-Null Count  Dtype  \n",
      "---  ------              --------------  -----  \n",
      " 0   Pclass_1            1309 non-null   float64\n",
      " 1   Pclass_2            1309 non-null   float64\n",
      " 2   Pclass_3            1309 non-null   float64\n",
      " 3   Sex_female          1309 non-null   float64\n",
      " 4   Sex_male            1309 non-null   float64\n",
      " 5   Embarked_C          1309 non-null   float64\n",
      " 6   Embarked_Q          1309 non-null   float64\n",
      " 7   Embarked_S          1309 non-null   float64\n",
      " 8   Title_Master        1309 non-null   float64\n",
      " 9   Title_Miss          1309 non-null   float64\n",
      " 10  Title_Mr            1309 non-null   float64\n",
      " 11  Title_Mrs           1309 non-null   float64\n",
      " 12  Title_Noble         1309 non-null   float64\n",
      " 13  Age                 1309 non-null   float64\n",
      " 14  Price               1309 non-null   float64\n",
      " 15  Deck                1309 non-null   float64\n",
      " 16  Escape_density      1309 non-null   float64\n",
      " 17  Deck_survive_ratio  1309 non-null   float64\n",
      " 18  Age_group           1309 non-null   float64\n",
      " 19  Family_group        1309 non-null   float64\n",
      " 20  Lucky_family        1309 non-null   float64\n",
      "dtypes: float64(21)\n",
      "memory usage: 214.9 KB\n"
     ]
    }
   ],
   "source": [
    "X_train.info()"
   ]
  },
  {
   "cell_type": "markdown",
   "id": "97222555",
   "metadata": {},
   "source": [
    "from above we can see that it shows `1308` rows before splitting as currently the `X_train` have the concatenation data from the `X`(Training) and `Y`(Testing) dataset. Let's Split the data."
   ]
  },
  {
   "cell_type": "markdown",
   "id": "93657179",
   "metadata": {},
   "source": [
    "**Splitting of Testing and Training Data:**"
   ]
  },
  {
   "cell_type": "code",
   "execution_count": 61,
   "id": "78a7b9b8",
   "metadata": {},
   "outputs": [],
   "source": [
    "X = X_train[:X_max_index]\n",
    "Y = X_train[X_max_index:]"
   ]
  },
  {
   "cell_type": "markdown",
   "id": "c045cb9f",
   "metadata": {},
   "source": [
    "**Processed Data Correlation:**"
   ]
  },
  {
   "cell_type": "code",
   "execution_count": 62,
   "id": "0c4dda37",
   "metadata": {},
   "outputs": [
    {
     "data": {
      "image/png": "[encoded data removed]",
      "text/plain": [
       "<Figure size 720x360 with 1 Axes>"
      ]
     },
     "metadata": {
      "needs_background": "light"
     },
     "output_type": "display_data"
    }
   ],
   "source": [
    "# Concatenate into a full dataset\n",
    "X_train = pd.concat([X, y], axis=1)\n",
    "\n",
    "corr = X_train.corr()['Survived'].sort_values(ascending=False)\n",
    "\n",
    "# Correlation graph\n",
    "corr[1:].plot(kind='bar', figsize=(10,5), title='Survivability dependency')\n",
    "plt.show()"
   ]
  },
  {
   "cell_type": "markdown",
   "id": "bb61f015",
   "metadata": {},
   "source": [
    "**Conclusion :**\n",
    "* `Females` and `Mrs` had the more chances of survival. Women and children first !!!\n",
    "* `Pclass1` and `Price` has the positive correlation. So priority was given to rich persons also.\n",
    "\n",
    "*The ground truth is that on the Titanic it is better to not be an usual single adult male on a lower deck and embarked from Southampton with a cheap ticket price.*"
   ]
  },
  {
   "cell_type": "code",
   "execution_count": 63,
   "id": "86c9e0c6",
   "metadata": {},
   "outputs": [
    {
     "name": "stdout",
     "output_type": "stream",
     "text": [
      "<class 'pandas.core.frame.DataFrame'>\n",
      "RangeIndex: 891 entries, 0 to 890\n",
      "Data columns (total 22 columns):\n",
      " #   Column              Non-Null Count  Dtype  \n",
      "---  ------              --------------  -----  \n",
      " 0   Pclass_1            891 non-null    float64\n",
      " 1   Pclass_2            891 non-null    float64\n",
      " 2   Pclass_3            891 non-null    float64\n",
      " 3   Sex_female          891 non-null    float64\n",
      " 4   Sex_male            891 non-null    float64\n",
      " 5   Embarked_C          891 non-null    float64\n",
      " 6   Embarked_Q          891 non-null    float64\n",
      " 7   Embarked_S          891 non-null    float64\n",
      " 8   Title_Master        891 non-null    float64\n",
      " 9   Title_Miss          891 non-null    float64\n",
      " 10  Title_Mr            891 non-null    float64\n",
      " 11  Title_Mrs           891 non-null    float64\n",
      " 12  Title_Noble         891 non-null    float64\n",
      " 13  Age                 891 non-null    float64\n",
      " 14  Price               891 non-null    float64\n",
      " 15  Deck                891 non-null    float64\n",
      " 16  Escape_density      891 non-null    float64\n",
      " 17  Deck_survive_ratio  891 non-null    float64\n",
      " 18  Age_group           891 non-null    float64\n",
      " 19  Family_group        891 non-null    float64\n",
      " 20  Lucky_family        891 non-null    float64\n",
      " 21  Survived            891 non-null    int64  \n",
      "dtypes: float64(21), int64(1)\n",
      "memory usage: 153.3 KB\n"
     ]
    }
   ],
   "source": [
    "X_train.info()"
   ]
  },
  {
   "cell_type": "code",
   "execution_count": 64,
   "id": "e62b6c3c",
   "metadata": {
    "scrolled": true
   },
   "outputs": [
    {
     "name": "stdout",
     "output_type": "stream",
     "text": [
      "<class 'pandas.core.frame.DataFrame'>\n",
      "RangeIndex: 891 entries, 0 to 890\n",
      "Data columns (total 21 columns):\n",
      " #   Column              Non-Null Count  Dtype  \n",
      "---  ------              --------------  -----  \n",
      " 0   Pclass_1            891 non-null    float64\n",
      " 1   Pclass_2            891 non-null    float64\n",
      " 2   Pclass_3            891 non-null    float64\n",
      " 3   Sex_female          891 non-null    float64\n",
      " 4   Sex_male            891 non-null    float64\n",
      " 5   Embarked_C          891 non-null    float64\n",
      " 6   Embarked_Q          891 non-null    float64\n",
      " 7   Embarked_S          891 non-null    float64\n",
      " 8   Title_Master        891 non-null    float64\n",
      " 9   Title_Miss          891 non-null    float64\n",
      " 10  Title_Mr            891 non-null    float64\n",
      " 11  Title_Mrs           891 non-null    float64\n",
      " 12  Title_Noble         891 non-null    float64\n",
      " 13  Age                 891 non-null    float64\n",
      " 14  Price               891 non-null    float64\n",
      " 15  Deck                891 non-null    float64\n",
      " 16  Escape_density      891 non-null    float64\n",
      " 17  Deck_survive_ratio  891 non-null    float64\n",
      " 18  Age_group           891 non-null    float64\n",
      " 19  Family_group        891 non-null    float64\n",
      " 20  Lucky_family        891 non-null    float64\n",
      "dtypes: float64(21)\n",
      "memory usage: 146.3 KB\n"
     ]
    }
   ],
   "source": [
    "X.info()"
   ]
  },
  {
   "cell_type": "code",
   "execution_count": 65,
   "id": "d126d208",
   "metadata": {},
   "outputs": [
    {
     "name": "stdout",
     "output_type": "stream",
     "text": [
      "<class 'pandas.core.frame.DataFrame'>\n",
      "RangeIndex: 418 entries, 891 to 1308\n",
      "Data columns (total 21 columns):\n",
      " #   Column              Non-Null Count  Dtype  \n",
      "---  ------              --------------  -----  \n",
      " 0   Pclass_1            418 non-null    float64\n",
      " 1   Pclass_2            418 non-null    float64\n",
      " 2   Pclass_3            418 non-null    float64\n",
      " 3   Sex_female          418 non-null    float64\n",
      " 4   Sex_male            418 non-null    float64\n",
      " 5   Embarked_C          418 non-null    float64\n",
      " 6   Embarked_Q          418 non-null    float64\n",
      " 7   Embarked_S          418 non-null    float64\n",
      " 8   Title_Master        418 non-null    float64\n",
      " 9   Title_Miss          418 non-null    float64\n",
      " 10  Title_Mr            418 non-null    float64\n",
      " 11  Title_Mrs           418 non-null    float64\n",
      " 12  Title_Noble         418 non-null    float64\n",
      " 13  Age                 418 non-null    float64\n",
      " 14  Price               418 non-null    float64\n",
      " 15  Deck                418 non-null    float64\n",
      " 16  Escape_density      418 non-null    float64\n",
      " 17  Deck_survive_ratio  418 non-null    float64\n",
      " 18  Age_group           418 non-null    float64\n",
      " 19  Family_group        418 non-null    float64\n",
      " 20  Lucky_family        418 non-null    float64\n",
      "dtypes: float64(21)\n",
      "memory usage: 68.7 KB\n"
     ]
    }
   ],
   "source": [
    "Y.info()"
   ]
  },
  {
   "cell_type": "markdown",
   "id": "fefc263c",
   "metadata": {},
   "source": [
    "# 5. Model Training <a class=\"anchor\" id=\"model_selection\"></a>\n",
    "* We will be using `RandomForest` Classifier to train our model.\n",
    "* First we will train the model with all the features,\n",
    "* Then we will run `SequentialFeatureSelector` for feature selection and,\n",
    "* Then we compare the score of the both(with and without feature selection) to train our final model with best score and parameters."
   ]
  },
  {
   "cell_type": "markdown",
   "id": "a843246b",
   "metadata": {},
   "source": [
    "`RandomForest` Classification:"
   ]
  },
  {
   "cell_type": "code",
   "execution_count": 69,
   "id": "b069d853",
   "metadata": {},
   "outputs": [
    {
     "name": "stdout",
     "output_type": "stream",
     "text": [
      "\n",
      " Best Score:\n",
      " 0.8451178451178452\n",
      "\n",
      " Best Parameters:\n",
      " {'depth': 3, 'iterations': 5000, 'learning_rate': 0.01, 'thread_count': -1, 'verbose': False}\n"
     ]
    }
   ],
   "source": [
    "# Define model\n",
    "cat_model = CatBoostClassifier()\n",
    "\n",
    "\n",
    "# Define parameters' grid\n",
    "grid = {'verbose': [False],\n",
    "         'thread_count': [-1],\n",
    "         'depth': [3, 4, 5, 6,7,8,9,10],\n",
    "         'iterations': [500, 1000, 2000, 3000,4000, 5000],\n",
    "         'learning_rate': [0.0001, 0.001, 0.01,0.1, 1]}\n",
    "\n",
    "# Define GridSearchCV\n",
    "grid_cat = GridSearchCV(estimator=cat_model, param_grid=grid, cv=3, n_jobs=-1)\n",
    "grid_cat.fit(X, y)\n",
    "\n",
    "params = grid_cat.best_params_\n",
    "\n",
    "print('\\n Best Score:\\n', grid_cat.best_score_)\n",
    "print('\\n Best Parameters:\\n', params)"
   ]
  },
  {
   "cell_type": "code",
   "execution_count": 70,
   "id": "6c6ba589",
   "metadata": {},
   "outputs": [
    {
     "data": {
      "text/html": [
       "<style>#sk-container-id-2 {color: black;background-color: white;}#sk-container-id-2 pre{padding: 0;}#sk-container-id-2 div.sk-toggleable {background-color: white;}#sk-container-id-2 label.sk-toggleable__label {cursor: pointer;display: block;width: 100%;margin-bottom: 0;padding: 0.3em;box-sizing: border-box;text-align: center;}#sk-container-id-2 label.sk-toggleable__label-arrow:before {content: \"▸\";float: left;margin-right: 0.25em;color: #696969;}#sk-container-id-2 label.sk-toggleable__label-arrow:hover:before {color: black;}#sk-container-id-2 div.sk-estimator:hover label.sk-toggleable__label-arrow:before {color: black;}#sk-container-id-2 div.sk-toggleable__content {max-height: 0;max-width: 0;overflow: hidden;text-align: left;background-color: #f0f8ff;}#sk-container-id-2 div.sk-toggleable__content pre {margin: 0.2em;color: black;border-radius: 0.25em;background-color: #f0f8ff;}#sk-container-id-2 input.sk-toggleable__control:checked~div.sk-toggleable__content {max-height: 200px;max-width: 100%;overflow: auto;}#sk-container-id-2 input.sk-toggleable__control:checked~label.sk-toggleable__label-arrow:before {content: \"▾\";}#sk-container-id-2 div.sk-estimator input.sk-toggleable__control:checked~label.sk-toggleable__label {background-color: #d4ebff;}#sk-container-id-2 div.sk-label input.sk-toggleable__control:checked~label.sk-toggleable__label {background-color: #d4ebff;}#sk-container-id-2 input.sk-hidden--visually {border: 0;clip: rect(1px 1px 1px 1px);clip: rect(1px, 1px, 1px, 1px);height: 1px;margin: -1px;overflow: hidden;padding: 0;position: absolute;width: 1px;}#sk-container-id-2 div.sk-estimator {font-family: monospace;background-color: #f0f8ff;border: 1px dotted black;border-radius: 0.25em;box-sizing: border-box;margin-bottom: 0.5em;}#sk-container-id-2 div.sk-estimator:hover {background-color: #d4ebff;}#sk-container-id-2 div.sk-parallel-item::after {content: \"\";width: 100%;border-bottom: 1px solid gray;flex-grow: 1;}#sk-container-id-2 div.sk-label:hover label.sk-toggleable__label {background-color: #d4ebff;}#sk-container-id-2 div.sk-serial::before {content: \"\";position: absolute;border-left: 1px solid gray;box-sizing: border-box;top: 0;bottom: 0;left: 50%;z-index: 0;}#sk-container-id-2 div.sk-serial {display: flex;flex-direction: column;align-items: center;background-color: white;padding-right: 0.2em;padding-left: 0.2em;position: relative;}#sk-container-id-2 div.sk-item {position: relative;z-index: 1;}#sk-container-id-2 div.sk-parallel {display: flex;align-items: stretch;justify-content: center;background-color: white;position: relative;}#sk-container-id-2 div.sk-item::before, #sk-container-id-2 div.sk-parallel-item::before {content: \"\";position: absolute;border-left: 1px solid gray;box-sizing: border-box;top: 0;bottom: 0;left: 50%;z-index: -1;}#sk-container-id-2 div.sk-parallel-item {display: flex;flex-direction: column;z-index: 1;position: relative;background-color: white;}#sk-container-id-2 div.sk-parallel-item:first-child::after {align-self: flex-end;width: 50%;}#sk-container-id-2 div.sk-parallel-item:last-child::after {align-self: flex-start;width: 50%;}#sk-container-id-2 div.sk-parallel-item:only-child::after {width: 0;}#sk-container-id-2 div.sk-dashed-wrapped {border: 1px dashed gray;margin: 0 0.4em 0.5em 0.4em;box-sizing: border-box;padding-bottom: 0.4em;background-color: white;}#sk-container-id-2 div.sk-label label {font-family: monospace;font-weight: bold;display: inline-block;line-height: 1.2em;}#sk-container-id-2 div.sk-label-container {text-align: center;}#sk-container-id-2 div.sk-container {/* jupyter's `normalize.less` sets `[hidden] { display: none; }` but bootstrap.min.css set `[hidden] { display: none !important; }` so we also need the `!important` here to be able to override the default hidden behavior on the sphinx rendered scikit-learn.org. See: https://github.com/scikit-learn/scikit-learn/issues/21755 */display: inline-block !important;position: relative;}#sk-container-id-2 div.sk-text-repr-fallback {display: none;}</style><div id=\"sk-container-id-2\" class=\"sk-top-container\"><div class=\"sk-text-repr-fallback\"><pre>GridSearchCV(cv=3, estimator=RandomForestClassifier(), n_jobs=1,\n",
       "             param_grid={&#x27;max_depth&#x27;: [1, 3, 5, 7, 9, 11, 13, 15, 17, 19, 21,\n",
       "                                       23, 25, 27, 29, 31, 33, 35, 37, 39],\n",
       "                         &#x27;max_features&#x27;: [1, 3, 5, 7, 9, 11, 13, 15, 17, 19, 21,\n",
       "                                          23, 25, 27, 29, 31, 33, 35, 37, 39],\n",
       "                         &#x27;n_estimators&#x27;: [1, 3, 5, 7, 9, 11, 13, 15, 17, 19, 21,\n",
       "                                          23, 25, 27, 29, 31, 33, 35, 37, 39]},\n",
       "             scoring=&#x27;accuracy&#x27;)</pre><b>In a Jupyter environment, please rerun this cell to show the HTML representation or trust the notebook. <br />On GitHub, the HTML representation is unable to render, please try loading this page with nbviewer.org.</b></div><div class=\"sk-container\" hidden><div class=\"sk-item sk-dashed-wrapped\"><div class=\"sk-label-container\"><div class=\"sk-label sk-toggleable\"><input class=\"sk-toggleable__control sk-hidden--visually\" id=\"sk-estimator-id-4\" type=\"checkbox\" ><label for=\"sk-estimator-id-4\" class=\"sk-toggleable__label sk-toggleable__label-arrow\">GridSearchCV</label><div class=\"sk-toggleable__content\"><pre>GridSearchCV(cv=3, estimator=RandomForestClassifier(), n_jobs=1,\n",
       "             param_grid={&#x27;max_depth&#x27;: [1, 3, 5, 7, 9, 11, 13, 15, 17, 19, 21,\n",
       "                                       23, 25, 27, 29, 31, 33, 35, 37, 39],\n",
       "                         &#x27;max_features&#x27;: [1, 3, 5, 7, 9, 11, 13, 15, 17, 19, 21,\n",
       "                                          23, 25, 27, 29, 31, 33, 35, 37, 39],\n",
       "                         &#x27;n_estimators&#x27;: [1, 3, 5, 7, 9, 11, 13, 15, 17, 19, 21,\n",
       "                                          23, 25, 27, 29, 31, 33, 35, 37, 39]},\n",
       "             scoring=&#x27;accuracy&#x27;)</pre></div></div></div><div class=\"sk-parallel\"><div class=\"sk-parallel-item\"><div class=\"sk-item\"><div class=\"sk-label-container\"><div class=\"sk-label sk-toggleable\"><input class=\"sk-toggleable__control sk-hidden--visually\" id=\"sk-estimator-id-5\" type=\"checkbox\" ><label for=\"sk-estimator-id-5\" class=\"sk-toggleable__label sk-toggleable__label-arrow\">estimator: RandomForestClassifier</label><div class=\"sk-toggleable__content\"><pre>RandomForestClassifier()</pre></div></div></div><div class=\"sk-serial\"><div class=\"sk-item\"><div class=\"sk-estimator sk-toggleable\"><input class=\"sk-toggleable__control sk-hidden--visually\" id=\"sk-estimator-id-6\" type=\"checkbox\" ><label for=\"sk-estimator-id-6\" class=\"sk-toggleable__label sk-toggleable__label-arrow\">RandomForestClassifier</label><div class=\"sk-toggleable__content\"><pre>RandomForestClassifier()</pre></div></div></div></div></div></div></div></div></div></div>"
      ],
      "text/plain": [
       "GridSearchCV(cv=3, estimator=RandomForestClassifier(), n_jobs=1,\n",
       "             param_grid={'max_depth': [1, 3, 5, 7, 9, 11, 13, 15, 17, 19, 21,\n",
       "                                       23, 25, 27, 29, 31, 33, 35, 37, 39],\n",
       "                         'max_features': [1, 3, 5, 7, 9, 11, 13, 15, 17, 19, 21,\n",
       "                                          23, 25, 27, 29, 31, 33, 35, 37, 39],\n",
       "                         'n_estimators': [1, 3, 5, 7, 9, 11, 13, 15, 17, 19, 21,\n",
       "                                          23, 25, 27, 29, 31, 33, 35, 37, 39]},\n",
       "             scoring='accuracy')"
      ]
     },
     "execution_count": 70,
     "metadata": {},
     "output_type": "execute_result"
    }
   ],
   "source": [
    "# Define model\n",
    "rf_model = RandomForestClassifier()\n",
    "\n",
    "\n",
    "# Define parameters' grid\n",
    "param_grid = {'n_estimators': [2*n+1 for n in range(20)],\n",
    "             'max_depth' : [2*n+1 for n in range(20) ],\n",
    "             'max_features':[2*n+1 for n in range(20)]}\n",
    "\n",
    "#Grid Search Hyperparameter tuning\n",
    "search = GridSearchCV(estimator=rf_model, param_grid=param_grid,scoring='accuracy', cv=3, n_jobs =1)\n",
    "search.fit(X, y)"
   ]
  },
  {
   "cell_type": "code",
   "execution_count": 71,
   "id": "68ba4ed3",
   "metadata": {},
   "outputs": [
    {
     "name": "stdout",
     "output_type": "stream",
     "text": [
      "\n",
      " Best Score:\n",
      " 0.851851851851852\n",
      "\n",
      " Best Parameters:\n",
      " {'max_depth': 5, 'max_features': 19, 'n_estimators': 5}\n"
     ]
    }
   ],
   "source": [
    "#we will print the best score and parameters here for clearer view\n",
    "print('\\n Best Score:\\n', search.best_score_)\n",
    "print('\\n Best Parameters:\\n', search.best_params_)"
   ]
  },
  {
   "cell_type": "markdown",
   "id": "683f61c4",
   "metadata": {},
   "source": [
    "`RandomForest` Classifier with feature selection."
   ]
  },
  {
   "cell_type": "code",
   "execution_count": 74,
   "id": "498ffb7e",
   "metadata": {},
   "outputs": [
    {
     "name": "stdout",
     "output_type": "stream",
     "text": [
      "['Pclass_2', 'Pclass_3', 'Sex_male', 'Embarked_Q', 'Embarked_S', 'Title_Mr', 'Title_Mrs', 'Title_Noble', 'Age', 'Lucky_family']\n"
     ]
    }
   ],
   "source": [
    "rf_model = RandomForestClassifier(n_estimators= 21, max_depth=5, max_features = 19, n_jobs=2)\n",
    "# Define and fit feature selector\n",
    "sfs = SequentialFeatureSelector(rf_model, \n",
    "                                scoring='accuracy', \n",
    "                                direction = 'backward')\n",
    "sfs.fit(X, y)\n",
    "\n",
    "# List of the final features to be used for submission modeling\n",
    "rf_final_features = list(sfs.get_feature_names_out())\n",
    "print(rf_final_features)"
   ]
  },
  {
   "cell_type": "code",
   "execution_count": 75,
   "id": "22dfe833",
   "metadata": {},
   "outputs": [],
   "source": [
    "#Loading the training & testing features\n",
    "X_train_rf = X[rf_final_features]\n",
    "X_test_rf = Y[rf_final_features]"
   ]
  },
  {
   "cell_type": "code",
   "execution_count": null,
   "id": "88605e47",
   "metadata": {},
   "outputs": [],
   "source": [
    "# Define model\n",
    "rf_model = RandomForestClassifier()\n",
    "\n",
    "\n",
    "# Define parameters' grid\n",
    "param_grid = {'n_estimators': [2*n+1 for n in range(20)],\n",
    "             'max_depth' : [2*n+1 for n in range(20) ],\n",
    "             'max_features':[2*n+1 for n in range(20)]}\n",
    "\n",
    "#Grid Search Hyperparameter tuning\n",
    "fs_search = GridSearchCV(estimator=rf_model, param_grid=param_grid,scoring='accuracy', cv=3, n_jobs =1)\n",
    "fs_search.fit(X_train_rf, y)"
   ]
  },
  {
   "cell_type": "code",
   "execution_count": null,
   "id": "e8dd24ac",
   "metadata": {},
   "outputs": [],
   "source": [
    "\n",
    "best_score = {'Model': ['Random Forest Classifier'],\n",
    "              'Score without Feautre Selection': [search.best_score_],\n",
    "              'Score without Feautre Selection': [fs_search.best_score_]\n",
    "             }\n",
    "\n",
    "score_df = pd.DataFrame(best_score)\n",
    "score_df"
   ]
  }
 ],
 "metadata": {
  "kernelspec": {
   "display_name": "Python 3 (ipykernel)",
   "language": "python",
   "name": "python3"
  },
  "language_info": {
   "codemirror_mode": {
    "name": "ipython",
    "version": 3
   },
   "file_extension": ".py",
   "mimetype": "text/x-python",
   "name": "python",
   "nbconvert_exporter": "python",
   "pygments_lexer": "ipython3",
   "version": "3.9.12"
  },
  "latex_envs": {
   "LaTeX_envs_menu_present": true,
   "autoclose": false,
   "autocomplete": true,
   "bibliofile": "biblio.bib",
   "cite_by": "apalike",
   "current_citInitial": 1,
   "eqLabelWithNumbers": true,
   "eqNumInitial": 1,
   "hotkeys": {
    "equation": "Ctrl-E",
    "itemize": "Ctrl-I"
   },
   "labels_anchors": false,
   "latex_user_defs": false,
   "report_style_numbering": false,
   "user_envs_cfg": false
  },
  "nbTranslate": {
   "displayLangs": [
    "*"
   ],
   "hotkey": "alt-t",
   "langInMainMenu": true,
   "sourceLang": "en",
   "targetLang": "fr",
   "useGoogleTranslate": true
  },
  "varInspector": {
   "cols": {
    "lenName": 16,
    "lenType": 16,
    "lenVar": 40
   },
   "kernels_config": {
    "python": {
     "delete_cmd_postfix": "",
     "delete_cmd_prefix": "del ",
     "library": "var_list.py",
     "varRefreshCmd": "print(var_dic_list())"
    },
    "r": {
     "delete_cmd_postfix": ") ",
     "delete_cmd_prefix": "rm(",
     "library": "var_list.r",
     "varRefreshCmd": "cat(var_dic_list()) "
    }
   },
   "types_to_exclude": [
    "module",
    "function",
    "builtin_function_or_method",
    "instance",
    "_Feature"
   ],
   "window_display": false
  }
 },
 "nbformat": 4,
 "nbformat_minor": 5
}
